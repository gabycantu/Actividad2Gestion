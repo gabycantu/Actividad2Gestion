{
 "cells": [
  {
   "cell_type": "code",
   "execution_count": 1,
   "metadata": {},
   "outputs": [],
   "source": [
    "import pandas as pd\n",
    "import numpy as np\n",
    "import matplotlib.pyplot as plt\n",
    "import statistics as st"
   ]
  },
  {
   "cell_type": "code",
   "execution_count": 46,
   "metadata": {},
   "outputs": [
    {
     "data": {
      "text/html": [
       "<div>\n",
       "<style scoped>\n",
       "    .dataframe tbody tr th:only-of-type {\n",
       "        vertical-align: middle;\n",
       "    }\n",
       "\n",
       "    .dataframe tbody tr th {\n",
       "        vertical-align: top;\n",
       "    }\n",
       "\n",
       "    .dataframe thead th {\n",
       "        text-align: right;\n",
       "    }\n",
       "</style>\n",
       "<table border=\"1\" class=\"dataframe\">\n",
       "  <thead>\n",
       "    <tr style=\"text-align: right;\">\n",
       "      <th></th>\n",
       "      <th>id</th>\n",
       "      <th>name</th>\n",
       "      <th>host_id</th>\n",
       "      <th>host_name</th>\n",
       "      <th>neighbourhood_group</th>\n",
       "      <th>neighbourhood</th>\n",
       "      <th>latitude</th>\n",
       "      <th>longitude</th>\n",
       "      <th>room_type</th>\n",
       "      <th>price</th>\n",
       "      <th>minimum_nights</th>\n",
       "      <th>number_of_reviews</th>\n",
       "      <th>last_review</th>\n",
       "      <th>reviews_per_month</th>\n",
       "      <th>calculated_host_listings_count</th>\n",
       "      <th>availability_365</th>\n",
       "      <th>number_of_reviews_ltm</th>\n",
       "      <th>license</th>\n",
       "    </tr>\n",
       "  </thead>\n",
       "  <tbody>\n",
       "    <tr>\n",
       "      <th>0</th>\n",
       "      <td>595549893585733310</td>\n",
       "      <td>HCK[R&amp;F] 2BR 2-4pax City View/Walk CIQ/Sunset@JB</td>\n",
       "      <td>95993346</td>\n",
       "      <td>Kylie</td>\n",
       "      <td>North Region</td>\n",
       "      <td>Woodlands</td>\n",
       "      <td>1.45838</td>\n",
       "      <td>103.77033</td>\n",
       "      <td>Entire home/apt</td>\n",
       "      <td>58</td>\n",
       "      <td>1</td>\n",
       "      <td>8</td>\n",
       "      <td>2022-05-01</td>\n",
       "      <td>3.43</td>\n",
       "      <td>1</td>\n",
       "      <td>18</td>\n",
       "      <td>8</td>\n",
       "      <td>NaN</td>\n",
       "    </tr>\n",
       "    <tr>\n",
       "      <th>1</th>\n",
       "      <td>50646</td>\n",
       "      <td>Pleasant Room along Bukit Timah</td>\n",
       "      <td>227796</td>\n",
       "      <td>Sujatha</td>\n",
       "      <td>Central Region</td>\n",
       "      <td>Bukit Timah</td>\n",
       "      <td>1.33432</td>\n",
       "      <td>103.78521</td>\n",
       "      <td>Private room</td>\n",
       "      <td>80</td>\n",
       "      <td>92</td>\n",
       "      <td>18</td>\n",
       "      <td>2014-12-26</td>\n",
       "      <td>0.18</td>\n",
       "      <td>1</td>\n",
       "      <td>365</td>\n",
       "      <td>0</td>\n",
       "      <td>NaN</td>\n",
       "    </tr>\n",
       "    <tr>\n",
       "      <th>2</th>\n",
       "      <td>71609</td>\n",
       "      <td>Ensuite Room (Room 1 &amp; 2) near EXPO</td>\n",
       "      <td>367042</td>\n",
       "      <td>Belinda</td>\n",
       "      <td>East Region</td>\n",
       "      <td>Tampines</td>\n",
       "      <td>1.34537</td>\n",
       "      <td>103.95887</td>\n",
       "      <td>Private room</td>\n",
       "      <td>143</td>\n",
       "      <td>92</td>\n",
       "      <td>20</td>\n",
       "      <td>2020-01-17</td>\n",
       "      <td>0.16</td>\n",
       "      <td>6</td>\n",
       "      <td>365</td>\n",
       "      <td>0</td>\n",
       "      <td>NaN</td>\n",
       "    </tr>\n",
       "    <tr>\n",
       "      <th>3</th>\n",
       "      <td>71896</td>\n",
       "      <td>B&amp;B  Room 1 near Airport &amp; EXPO</td>\n",
       "      <td>367042</td>\n",
       "      <td>Belinda</td>\n",
       "      <td>East Region</td>\n",
       "      <td>Tampines</td>\n",
       "      <td>1.34754</td>\n",
       "      <td>103.95958</td>\n",
       "      <td>Private room</td>\n",
       "      <td>83</td>\n",
       "      <td>92</td>\n",
       "      <td>24</td>\n",
       "      <td>2019-10-13</td>\n",
       "      <td>0.18</td>\n",
       "      <td>6</td>\n",
       "      <td>365</td>\n",
       "      <td>0</td>\n",
       "      <td>NaN</td>\n",
       "    </tr>\n",
       "    <tr>\n",
       "      <th>4</th>\n",
       "      <td>71903</td>\n",
       "      <td>Room 2-near Airport &amp; EXPO</td>\n",
       "      <td>367042</td>\n",
       "      <td>Belinda</td>\n",
       "      <td>East Region</td>\n",
       "      <td>Tampines</td>\n",
       "      <td>1.34531</td>\n",
       "      <td>103.96100</td>\n",
       "      <td>Private room</td>\n",
       "      <td>83</td>\n",
       "      <td>92</td>\n",
       "      <td>47</td>\n",
       "      <td>2020-01-09</td>\n",
       "      <td>0.35</td>\n",
       "      <td>6</td>\n",
       "      <td>365</td>\n",
       "      <td>0</td>\n",
       "      <td>NaN</td>\n",
       "    </tr>\n",
       "    <tr>\n",
       "      <th>...</th>\n",
       "      <td>...</td>\n",
       "      <td>...</td>\n",
       "      <td>...</td>\n",
       "      <td>...</td>\n",
       "      <td>...</td>\n",
       "      <td>...</td>\n",
       "      <td>...</td>\n",
       "      <td>...</td>\n",
       "      <td>...</td>\n",
       "      <td>...</td>\n",
       "      <td>...</td>\n",
       "      <td>...</td>\n",
       "      <td>...</td>\n",
       "      <td>...</td>\n",
       "      <td>...</td>\n",
       "      <td>...</td>\n",
       "      <td>...</td>\n",
       "      <td>...</td>\n",
       "    </tr>\n",
       "    <tr>\n",
       "      <th>4094</th>\n",
       "      <td>619111600921554733</td>\n",
       "      <td>JB Suasana-Spacious Comforts 1BR-vacations Trips</td>\n",
       "      <td>275883777</td>\n",
       "      <td>Lawrence</td>\n",
       "      <td>North Region</td>\n",
       "      <td>Woodlands</td>\n",
       "      <td>1.46257</td>\n",
       "      <td>103.76248</td>\n",
       "      <td>Entire home/apt</td>\n",
       "      <td>42</td>\n",
       "      <td>1</td>\n",
       "      <td>4</td>\n",
       "      <td>2022-06-19</td>\n",
       "      <td>4.00</td>\n",
       "      <td>1</td>\n",
       "      <td>255</td>\n",
       "      <td>4</td>\n",
       "      <td>NaN</td>\n",
       "    </tr>\n",
       "    <tr>\n",
       "      <th>4095</th>\n",
       "      <td>48290687</td>\n",
       "      <td>âSuasanaâ@UHA 1BR 2-4pax Mint Suite near H...</td>\n",
       "      <td>41870590</td>\n",
       "      <td>UHA Management</td>\n",
       "      <td>North Region</td>\n",
       "      <td>Woodlands</td>\n",
       "      <td>1.46270</td>\n",
       "      <td>103.76233</td>\n",
       "      <td>Entire home/apt</td>\n",
       "      <td>58</td>\n",
       "      <td>1</td>\n",
       "      <td>10</td>\n",
       "      <td>2022-05-14</td>\n",
       "      <td>0.62</td>\n",
       "      <td>67</td>\n",
       "      <td>359</td>\n",
       "      <td>6</td>\n",
       "      <td>NaN</td>\n",
       "    </tr>\n",
       "    <tr>\n",
       "      <th>4096</th>\n",
       "      <td>42796311</td>\n",
       "      <td>Almas Suite-S-Puteri Harbour Legoland-JBæ°å±±...</td>\n",
       "      <td>256745705</td>\n",
       "      <td>Penly</td>\n",
       "      <td>West Region</td>\n",
       "      <td>Western Water Catchment</td>\n",
       "      <td>1.41857</td>\n",
       "      <td>103.64993</td>\n",
       "      <td>Private room</td>\n",
       "      <td>42</td>\n",
       "      <td>1</td>\n",
       "      <td>28</td>\n",
       "      <td>2022-06-10</td>\n",
       "      <td>1.08</td>\n",
       "      <td>4</td>\n",
       "      <td>86</td>\n",
       "      <td>14</td>\n",
       "      <td>NaN</td>\n",
       "    </tr>\n",
       "    <tr>\n",
       "      <th>4097</th>\n",
       "      <td>34545618</td>\n",
       "      <td>European Style Spacious Suite (JOHOR BAHRU)14p...</td>\n",
       "      <td>189276703</td>\n",
       "      <td>Alan</td>\n",
       "      <td>North Region</td>\n",
       "      <td>Lim Chu Kang</td>\n",
       "      <td>1.46470</td>\n",
       "      <td>103.70167</td>\n",
       "      <td>Entire home/apt</td>\n",
       "      <td>220</td>\n",
       "      <td>28</td>\n",
       "      <td>0</td>\n",
       "      <td>NaN</td>\n",
       "      <td>NaN</td>\n",
       "      <td>1</td>\n",
       "      <td>365</td>\n",
       "      <td>0</td>\n",
       "      <td>NaN</td>\n",
       "    </tr>\n",
       "    <tr>\n",
       "      <th>4098</th>\n",
       "      <td>595133307449923232</td>\n",
       "      <td>ãPrivate BBQ &amp; Sunset ViewãD'Potter Suite 2BR</td>\n",
       "      <td>351932154</td>\n",
       "      <td>Nest</td>\n",
       "      <td>North Region</td>\n",
       "      <td>Woodlands</td>\n",
       "      <td>1.46731</td>\n",
       "      <td>103.76589</td>\n",
       "      <td>Entire home/apt</td>\n",
       "      <td>87</td>\n",
       "      <td>1</td>\n",
       "      <td>24</td>\n",
       "      <td>2022-06-17</td>\n",
       "      <td>9.11</td>\n",
       "      <td>16</td>\n",
       "      <td>170</td>\n",
       "      <td>24</td>\n",
       "      <td>NaN</td>\n",
       "    </tr>\n",
       "  </tbody>\n",
       "</table>\n",
       "<p>4099 rows × 18 columns</p>\n",
       "</div>"
      ],
      "text/plain": [
       "                      id                                               name  \\\n",
       "0     595549893585733310   HCK[R&F] 2BR 2-4pax City View/Walk CIQ/Sunset@JB   \n",
       "1                  50646                    Pleasant Room along Bukit Timah   \n",
       "2                  71609                Ensuite Room (Room 1 & 2) near EXPO   \n",
       "3                  71896                    B&B  Room 1 near Airport & EXPO   \n",
       "4                  71903                         Room 2-near Airport & EXPO   \n",
       "...                  ...                                                ...   \n",
       "4094  619111600921554733   JB Suasana-Spacious Comforts 1BR-vacations Trips   \n",
       "4095            48290687  âSuasanaâ@UHA 1BR 2-4pax Mint Suite near H...   \n",
       "4096            42796311  Almas Suite-S-Puteri Harbour Legoland-JBæ°å±±...   \n",
       "4097            34545618  European Style Spacious Suite (JOHOR BAHRU)14p...   \n",
       "4098  595133307449923232  ãPrivate BBQ & Sunset ViewãD'Potter Suite 2BR   \n",
       "\n",
       "        host_id       host_name neighbourhood_group            neighbourhood  \\\n",
       "0      95993346           Kylie        North Region                Woodlands   \n",
       "1        227796         Sujatha      Central Region              Bukit Timah   \n",
       "2        367042         Belinda         East Region                 Tampines   \n",
       "3        367042         Belinda         East Region                 Tampines   \n",
       "4        367042         Belinda         East Region                 Tampines   \n",
       "...         ...             ...                 ...                      ...   \n",
       "4094  275883777        Lawrence        North Region                Woodlands   \n",
       "4095   41870590  UHA Management        North Region                Woodlands   \n",
       "4096  256745705           Penly         West Region  Western Water Catchment   \n",
       "4097  189276703            Alan        North Region             Lim Chu Kang   \n",
       "4098  351932154            Nest        North Region                Woodlands   \n",
       "\n",
       "      latitude  longitude        room_type  price  minimum_nights  \\\n",
       "0      1.45838  103.77033  Entire home/apt     58               1   \n",
       "1      1.33432  103.78521     Private room     80              92   \n",
       "2      1.34537  103.95887     Private room    143              92   \n",
       "3      1.34754  103.95958     Private room     83              92   \n",
       "4      1.34531  103.96100     Private room     83              92   \n",
       "...        ...        ...              ...    ...             ...   \n",
       "4094   1.46257  103.76248  Entire home/apt     42               1   \n",
       "4095   1.46270  103.76233  Entire home/apt     58               1   \n",
       "4096   1.41857  103.64993     Private room     42               1   \n",
       "4097   1.46470  103.70167  Entire home/apt    220              28   \n",
       "4098   1.46731  103.76589  Entire home/apt     87               1   \n",
       "\n",
       "      number_of_reviews last_review  reviews_per_month  \\\n",
       "0                     8  2022-05-01               3.43   \n",
       "1                    18  2014-12-26               0.18   \n",
       "2                    20  2020-01-17               0.16   \n",
       "3                    24  2019-10-13               0.18   \n",
       "4                    47  2020-01-09               0.35   \n",
       "...                 ...         ...                ...   \n",
       "4094                  4  2022-06-19               4.00   \n",
       "4095                 10  2022-05-14               0.62   \n",
       "4096                 28  2022-06-10               1.08   \n",
       "4097                  0         NaN                NaN   \n",
       "4098                 24  2022-06-17               9.11   \n",
       "\n",
       "      calculated_host_listings_count  availability_365  number_of_reviews_ltm  \\\n",
       "0                                  1                18                      8   \n",
       "1                                  1               365                      0   \n",
       "2                                  6               365                      0   \n",
       "3                                  6               365                      0   \n",
       "4                                  6               365                      0   \n",
       "...                              ...               ...                    ...   \n",
       "4094                               1               255                      4   \n",
       "4095                              67               359                      6   \n",
       "4096                               4                86                     14   \n",
       "4097                               1               365                      0   \n",
       "4098                              16               170                     24   \n",
       "\n",
       "     license  \n",
       "0        NaN  \n",
       "1        NaN  \n",
       "2        NaN  \n",
       "3        NaN  \n",
       "4        NaN  \n",
       "...      ...  \n",
       "4094     NaN  \n",
       "4095     NaN  \n",
       "4096     NaN  \n",
       "4097     NaN  \n",
       "4098     NaN  \n",
       "\n",
       "[4099 rows x 18 columns]"
      ]
     },
     "execution_count": 46,
     "metadata": {},
     "output_type": "execute_result"
    }
   ],
   "source": [
    "#Carga desde un archivo .csv sin indice\n",
    "data= pd.read_csv('singapur.csv',encoding='ISO-8859-1') \n",
    "data"
   ]
  },
  {
   "cell_type": "code",
   "execution_count": 47,
   "metadata": {},
   "outputs": [
    {
     "data": {
      "text/plain": [
       "id                                   0\n",
       "name                                 0\n",
       "host_id                              0\n",
       "host_name                            8\n",
       "neighbourhood_group                  0\n",
       "neighbourhood                        0\n",
       "latitude                             0\n",
       "longitude                            0\n",
       "room_type                            0\n",
       "price                                0\n",
       "minimum_nights                       0\n",
       "number_of_reviews                    0\n",
       "last_review                       1598\n",
       "reviews_per_month                 1598\n",
       "calculated_host_listings_count       0\n",
       "availability_365                     0\n",
       "number_of_reviews_ltm                0\n",
       "license                           3377\n",
       "dtype: int64"
      ]
     },
     "execution_count": 47,
     "metadata": {},
     "output_type": "execute_result"
    }
   ],
   "source": [
    "#Identificar valores nulos\n",
    "valores_nulos=data.isnull().sum()\n",
    "valores_nulos"
   ]
  },
  {
   "cell_type": "code",
   "execution_count": 48,
   "metadata": {},
   "outputs": [
    {
     "data": {
      "text/html": [
       "<div>\n",
       "<style scoped>\n",
       "    .dataframe tbody tr th:only-of-type {\n",
       "        vertical-align: middle;\n",
       "    }\n",
       "\n",
       "    .dataframe tbody tr th {\n",
       "        vertical-align: top;\n",
       "    }\n",
       "\n",
       "    .dataframe thead th {\n",
       "        text-align: right;\n",
       "    }\n",
       "</style>\n",
       "<table border=\"1\" class=\"dataframe\">\n",
       "  <thead>\n",
       "    <tr style=\"text-align: right;\">\n",
       "      <th></th>\n",
       "      <th>id</th>\n",
       "      <th>name</th>\n",
       "      <th>host_id</th>\n",
       "      <th>host_name</th>\n",
       "      <th>neighbourhood_group</th>\n",
       "      <th>neighbourhood</th>\n",
       "      <th>latitude</th>\n",
       "      <th>longitude</th>\n",
       "      <th>room_type</th>\n",
       "      <th>price</th>\n",
       "      <th>minimum_nights</th>\n",
       "      <th>number_of_reviews</th>\n",
       "      <th>last_review</th>\n",
       "      <th>reviews_per_month</th>\n",
       "      <th>calculated_host_listings_count</th>\n",
       "      <th>availability_365</th>\n",
       "      <th>number_of_reviews_ltm</th>\n",
       "      <th>license</th>\n",
       "    </tr>\n",
       "  </thead>\n",
       "  <tbody>\n",
       "    <tr>\n",
       "      <th>0</th>\n",
       "      <td>595549893585733310</td>\n",
       "      <td>HCK[R&amp;F] 2BR 2-4pax City View/Walk CIQ/Sunset@JB</td>\n",
       "      <td>95993346</td>\n",
       "      <td>Kylie</td>\n",
       "      <td>North Region</td>\n",
       "      <td>Woodlands</td>\n",
       "      <td>1.45838</td>\n",
       "      <td>103.77033</td>\n",
       "      <td>Entire home/apt</td>\n",
       "      <td>58</td>\n",
       "      <td>1</td>\n",
       "      <td>8</td>\n",
       "      <td>2022-05-01</td>\n",
       "      <td>3.43</td>\n",
       "      <td>1</td>\n",
       "      <td>18</td>\n",
       "      <td>8</td>\n",
       "      <td>NaN</td>\n",
       "    </tr>\n",
       "    <tr>\n",
       "      <th>1</th>\n",
       "      <td>50646</td>\n",
       "      <td>Pleasant Room along Bukit Timah</td>\n",
       "      <td>227796</td>\n",
       "      <td>Sujatha</td>\n",
       "      <td>Central Region</td>\n",
       "      <td>Bukit Timah</td>\n",
       "      <td>1.33432</td>\n",
       "      <td>103.78521</td>\n",
       "      <td>Private room</td>\n",
       "      <td>80</td>\n",
       "      <td>92</td>\n",
       "      <td>18</td>\n",
       "      <td>2014-12-26</td>\n",
       "      <td>0.18</td>\n",
       "      <td>1</td>\n",
       "      <td>365</td>\n",
       "      <td>0</td>\n",
       "      <td>NaN</td>\n",
       "    </tr>\n",
       "    <tr>\n",
       "      <th>2</th>\n",
       "      <td>71609</td>\n",
       "      <td>Ensuite Room (Room 1 &amp; 2) near EXPO</td>\n",
       "      <td>367042</td>\n",
       "      <td>Belinda</td>\n",
       "      <td>East Region</td>\n",
       "      <td>Tampines</td>\n",
       "      <td>1.34537</td>\n",
       "      <td>103.95887</td>\n",
       "      <td>Private room</td>\n",
       "      <td>143</td>\n",
       "      <td>92</td>\n",
       "      <td>20</td>\n",
       "      <td>2020-01-17</td>\n",
       "      <td>0.16</td>\n",
       "      <td>6</td>\n",
       "      <td>365</td>\n",
       "      <td>0</td>\n",
       "      <td>NaN</td>\n",
       "    </tr>\n",
       "    <tr>\n",
       "      <th>3</th>\n",
       "      <td>71896</td>\n",
       "      <td>B&amp;B  Room 1 near Airport &amp; EXPO</td>\n",
       "      <td>367042</td>\n",
       "      <td>Belinda</td>\n",
       "      <td>East Region</td>\n",
       "      <td>Tampines</td>\n",
       "      <td>1.34754</td>\n",
       "      <td>103.95958</td>\n",
       "      <td>Private room</td>\n",
       "      <td>83</td>\n",
       "      <td>92</td>\n",
       "      <td>24</td>\n",
       "      <td>2019-10-13</td>\n",
       "      <td>0.18</td>\n",
       "      <td>6</td>\n",
       "      <td>365</td>\n",
       "      <td>0</td>\n",
       "      <td>NaN</td>\n",
       "    </tr>\n",
       "    <tr>\n",
       "      <th>4</th>\n",
       "      <td>71903</td>\n",
       "      <td>Room 2-near Airport &amp; EXPO</td>\n",
       "      <td>367042</td>\n",
       "      <td>Belinda</td>\n",
       "      <td>East Region</td>\n",
       "      <td>Tampines</td>\n",
       "      <td>1.34531</td>\n",
       "      <td>103.96100</td>\n",
       "      <td>Private room</td>\n",
       "      <td>83</td>\n",
       "      <td>92</td>\n",
       "      <td>47</td>\n",
       "      <td>2020-01-09</td>\n",
       "      <td>0.35</td>\n",
       "      <td>6</td>\n",
       "      <td>365</td>\n",
       "      <td>0</td>\n",
       "      <td>NaN</td>\n",
       "    </tr>\n",
       "    <tr>\n",
       "      <th>...</th>\n",
       "      <td>...</td>\n",
       "      <td>...</td>\n",
       "      <td>...</td>\n",
       "      <td>...</td>\n",
       "      <td>...</td>\n",
       "      <td>...</td>\n",
       "      <td>...</td>\n",
       "      <td>...</td>\n",
       "      <td>...</td>\n",
       "      <td>...</td>\n",
       "      <td>...</td>\n",
       "      <td>...</td>\n",
       "      <td>...</td>\n",
       "      <td>...</td>\n",
       "      <td>...</td>\n",
       "      <td>...</td>\n",
       "      <td>...</td>\n",
       "      <td>...</td>\n",
       "    </tr>\n",
       "    <tr>\n",
       "      <th>4094</th>\n",
       "      <td>619111600921554733</td>\n",
       "      <td>JB Suasana-Spacious Comforts 1BR-vacations Trips</td>\n",
       "      <td>275883777</td>\n",
       "      <td>Lawrence</td>\n",
       "      <td>North Region</td>\n",
       "      <td>Woodlands</td>\n",
       "      <td>1.46257</td>\n",
       "      <td>103.76248</td>\n",
       "      <td>Entire home/apt</td>\n",
       "      <td>42</td>\n",
       "      <td>1</td>\n",
       "      <td>4</td>\n",
       "      <td>2022-06-19</td>\n",
       "      <td>4.00</td>\n",
       "      <td>1</td>\n",
       "      <td>255</td>\n",
       "      <td>4</td>\n",
       "      <td>NaN</td>\n",
       "    </tr>\n",
       "    <tr>\n",
       "      <th>4095</th>\n",
       "      <td>48290687</td>\n",
       "      <td>âSuasanaâ@UHA 1BR 2-4pax Mint Suite near H...</td>\n",
       "      <td>41870590</td>\n",
       "      <td>UHA Management</td>\n",
       "      <td>North Region</td>\n",
       "      <td>Woodlands</td>\n",
       "      <td>1.46270</td>\n",
       "      <td>103.76233</td>\n",
       "      <td>Entire home/apt</td>\n",
       "      <td>58</td>\n",
       "      <td>1</td>\n",
       "      <td>10</td>\n",
       "      <td>2022-05-14</td>\n",
       "      <td>0.62</td>\n",
       "      <td>67</td>\n",
       "      <td>359</td>\n",
       "      <td>6</td>\n",
       "      <td>NaN</td>\n",
       "    </tr>\n",
       "    <tr>\n",
       "      <th>4096</th>\n",
       "      <td>42796311</td>\n",
       "      <td>Almas Suite-S-Puteri Harbour Legoland-JBæ°å±±...</td>\n",
       "      <td>256745705</td>\n",
       "      <td>Penly</td>\n",
       "      <td>West Region</td>\n",
       "      <td>Western Water Catchment</td>\n",
       "      <td>1.41857</td>\n",
       "      <td>103.64993</td>\n",
       "      <td>Private room</td>\n",
       "      <td>42</td>\n",
       "      <td>1</td>\n",
       "      <td>28</td>\n",
       "      <td>2022-06-10</td>\n",
       "      <td>1.08</td>\n",
       "      <td>4</td>\n",
       "      <td>86</td>\n",
       "      <td>14</td>\n",
       "      <td>NaN</td>\n",
       "    </tr>\n",
       "    <tr>\n",
       "      <th>4097</th>\n",
       "      <td>34545618</td>\n",
       "      <td>European Style Spacious Suite (JOHOR BAHRU)14p...</td>\n",
       "      <td>189276703</td>\n",
       "      <td>Alan</td>\n",
       "      <td>North Region</td>\n",
       "      <td>Lim Chu Kang</td>\n",
       "      <td>1.46470</td>\n",
       "      <td>103.70167</td>\n",
       "      <td>Entire home/apt</td>\n",
       "      <td>220</td>\n",
       "      <td>28</td>\n",
       "      <td>0</td>\n",
       "      <td>NaN</td>\n",
       "      <td>NaN</td>\n",
       "      <td>1</td>\n",
       "      <td>365</td>\n",
       "      <td>0</td>\n",
       "      <td>NaN</td>\n",
       "    </tr>\n",
       "    <tr>\n",
       "      <th>4098</th>\n",
       "      <td>595133307449923232</td>\n",
       "      <td>ãPrivate BBQ &amp; Sunset ViewãD'Potter Suite 2BR</td>\n",
       "      <td>351932154</td>\n",
       "      <td>Nest</td>\n",
       "      <td>North Region</td>\n",
       "      <td>Woodlands</td>\n",
       "      <td>1.46731</td>\n",
       "      <td>103.76589</td>\n",
       "      <td>Entire home/apt</td>\n",
       "      <td>87</td>\n",
       "      <td>1</td>\n",
       "      <td>24</td>\n",
       "      <td>2022-06-17</td>\n",
       "      <td>9.11</td>\n",
       "      <td>16</td>\n",
       "      <td>170</td>\n",
       "      <td>24</td>\n",
       "      <td>NaN</td>\n",
       "    </tr>\n",
       "  </tbody>\n",
       "</table>\n",
       "<p>4099 rows × 18 columns</p>\n",
       "</div>"
      ],
      "text/plain": [
       "                      id                                               name  \\\n",
       "0     595549893585733310   HCK[R&F] 2BR 2-4pax City View/Walk CIQ/Sunset@JB   \n",
       "1                  50646                    Pleasant Room along Bukit Timah   \n",
       "2                  71609                Ensuite Room (Room 1 & 2) near EXPO   \n",
       "3                  71896                    B&B  Room 1 near Airport & EXPO   \n",
       "4                  71903                         Room 2-near Airport & EXPO   \n",
       "...                  ...                                                ...   \n",
       "4094  619111600921554733   JB Suasana-Spacious Comforts 1BR-vacations Trips   \n",
       "4095            48290687  âSuasanaâ@UHA 1BR 2-4pax Mint Suite near H...   \n",
       "4096            42796311  Almas Suite-S-Puteri Harbour Legoland-JBæ°å±±...   \n",
       "4097            34545618  European Style Spacious Suite (JOHOR BAHRU)14p...   \n",
       "4098  595133307449923232  ãPrivate BBQ & Sunset ViewãD'Potter Suite 2BR   \n",
       "\n",
       "        host_id       host_name neighbourhood_group            neighbourhood  \\\n",
       "0      95993346           Kylie        North Region                Woodlands   \n",
       "1        227796         Sujatha      Central Region              Bukit Timah   \n",
       "2        367042         Belinda         East Region                 Tampines   \n",
       "3        367042         Belinda         East Region                 Tampines   \n",
       "4        367042         Belinda         East Region                 Tampines   \n",
       "...         ...             ...                 ...                      ...   \n",
       "4094  275883777        Lawrence        North Region                Woodlands   \n",
       "4095   41870590  UHA Management        North Region                Woodlands   \n",
       "4096  256745705           Penly         West Region  Western Water Catchment   \n",
       "4097  189276703            Alan        North Region             Lim Chu Kang   \n",
       "4098  351932154            Nest        North Region                Woodlands   \n",
       "\n",
       "      latitude  longitude        room_type  price  minimum_nights  \\\n",
       "0      1.45838  103.77033  Entire home/apt     58               1   \n",
       "1      1.33432  103.78521     Private room     80              92   \n",
       "2      1.34537  103.95887     Private room    143              92   \n",
       "3      1.34754  103.95958     Private room     83              92   \n",
       "4      1.34531  103.96100     Private room     83              92   \n",
       "...        ...        ...              ...    ...             ...   \n",
       "4094   1.46257  103.76248  Entire home/apt     42               1   \n",
       "4095   1.46270  103.76233  Entire home/apt     58               1   \n",
       "4096   1.41857  103.64993     Private room     42               1   \n",
       "4097   1.46470  103.70167  Entire home/apt    220              28   \n",
       "4098   1.46731  103.76589  Entire home/apt     87               1   \n",
       "\n",
       "      number_of_reviews last_review  reviews_per_month  \\\n",
       "0                     8  2022-05-01               3.43   \n",
       "1                    18  2014-12-26               0.18   \n",
       "2                    20  2020-01-17               0.16   \n",
       "3                    24  2019-10-13               0.18   \n",
       "4                    47  2020-01-09               0.35   \n",
       "...                 ...         ...                ...   \n",
       "4094                  4  2022-06-19               4.00   \n",
       "4095                 10  2022-05-14               0.62   \n",
       "4096                 28  2022-06-10               1.08   \n",
       "4097                  0         NaN                NaN   \n",
       "4098                 24  2022-06-17               9.11   \n",
       "\n",
       "      calculated_host_listings_count  availability_365  number_of_reviews_ltm  \\\n",
       "0                                  1                18                      8   \n",
       "1                                  1               365                      0   \n",
       "2                                  6               365                      0   \n",
       "3                                  6               365                      0   \n",
       "4                                  6               365                      0   \n",
       "...                              ...               ...                    ...   \n",
       "4094                               1               255                      4   \n",
       "4095                              67               359                      6   \n",
       "4096                               4                86                     14   \n",
       "4097                               1               365                      0   \n",
       "4098                              16               170                     24   \n",
       "\n",
       "     license  \n",
       "0        NaN  \n",
       "1        NaN  \n",
       "2        NaN  \n",
       "3        NaN  \n",
       "4        NaN  \n",
       "...      ...  \n",
       "4094     NaN  \n",
       "4095     NaN  \n",
       "4096     NaN  \n",
       "4097     NaN  \n",
       "4098     NaN  \n",
       "\n",
       "[4099 rows x 18 columns]"
      ]
     },
     "execution_count": 48,
     "metadata": {},
     "output_type": "execute_result"
    }
   ],
   "source": [
    "#Rellenar los valores nulos con el objeto \"anterior de la columna\" de la columna \"host_name\"\n",
    "data[\"host_name\"]= data[\"host_name\"].fillna(method=\"bfill\") \n",
    "data"
   ]
  },
  {
   "cell_type": "code",
   "execution_count": 49,
   "metadata": {},
   "outputs": [
    {
     "data": {
      "text/plain": [
       "id                                   0\n",
       "name                                 0\n",
       "host_id                              0\n",
       "host_name                            0\n",
       "neighbourhood_group                  0\n",
       "neighbourhood                        0\n",
       "latitude                             0\n",
       "longitude                            0\n",
       "room_type                            0\n",
       "price                                0\n",
       "minimum_nights                       0\n",
       "number_of_reviews                    0\n",
       "last_review                       1598\n",
       "reviews_per_month                 1598\n",
       "calculated_host_listings_count       0\n",
       "availability_365                     0\n",
       "number_of_reviews_ltm                0\n",
       "license                           3377\n",
       "dtype: int64"
      ]
     },
     "execution_count": 49,
     "metadata": {},
     "output_type": "execute_result"
    }
   ],
   "source": [
    "#Comprobar corrección de valores nulos\n",
    "valores_nulos=data.isnull().sum()\n",
    "valores_nulos"
   ]
  },
  {
   "cell_type": "code",
   "execution_count": 50,
   "metadata": {},
   "outputs": [
    {
     "data": {
      "text/html": [
       "<div>\n",
       "<style scoped>\n",
       "    .dataframe tbody tr th:only-of-type {\n",
       "        vertical-align: middle;\n",
       "    }\n",
       "\n",
       "    .dataframe tbody tr th {\n",
       "        vertical-align: top;\n",
       "    }\n",
       "\n",
       "    .dataframe thead th {\n",
       "        text-align: right;\n",
       "    }\n",
       "</style>\n",
       "<table border=\"1\" class=\"dataframe\">\n",
       "  <thead>\n",
       "    <tr style=\"text-align: right;\">\n",
       "      <th></th>\n",
       "      <th>id</th>\n",
       "      <th>name</th>\n",
       "      <th>host_id</th>\n",
       "      <th>host_name</th>\n",
       "      <th>neighbourhood_group</th>\n",
       "      <th>neighbourhood</th>\n",
       "      <th>latitude</th>\n",
       "      <th>longitude</th>\n",
       "      <th>room_type</th>\n",
       "      <th>price</th>\n",
       "      <th>minimum_nights</th>\n",
       "      <th>number_of_reviews</th>\n",
       "      <th>last_review</th>\n",
       "      <th>reviews_per_month</th>\n",
       "      <th>calculated_host_listings_count</th>\n",
       "      <th>availability_365</th>\n",
       "      <th>number_of_reviews_ltm</th>\n",
       "      <th>license</th>\n",
       "    </tr>\n",
       "  </thead>\n",
       "  <tbody>\n",
       "    <tr>\n",
       "      <th>0</th>\n",
       "      <td>595549893585733310</td>\n",
       "      <td>HCK[R&amp;F] 2BR 2-4pax City View/Walk CIQ/Sunset@JB</td>\n",
       "      <td>95993346</td>\n",
       "      <td>Kylie</td>\n",
       "      <td>North Region</td>\n",
       "      <td>Woodlands</td>\n",
       "      <td>1.45838</td>\n",
       "      <td>103.77033</td>\n",
       "      <td>Entire home/apt</td>\n",
       "      <td>58</td>\n",
       "      <td>1</td>\n",
       "      <td>8</td>\n",
       "      <td>2022-05-01</td>\n",
       "      <td>3.43</td>\n",
       "      <td>1</td>\n",
       "      <td>18</td>\n",
       "      <td>8</td>\n",
       "      <td>NaN</td>\n",
       "    </tr>\n",
       "    <tr>\n",
       "      <th>1</th>\n",
       "      <td>50646</td>\n",
       "      <td>Pleasant Room along Bukit Timah</td>\n",
       "      <td>227796</td>\n",
       "      <td>Sujatha</td>\n",
       "      <td>Central Region</td>\n",
       "      <td>Bukit Timah</td>\n",
       "      <td>1.33432</td>\n",
       "      <td>103.78521</td>\n",
       "      <td>Private room</td>\n",
       "      <td>80</td>\n",
       "      <td>92</td>\n",
       "      <td>18</td>\n",
       "      <td>2014-12-26</td>\n",
       "      <td>0.18</td>\n",
       "      <td>1</td>\n",
       "      <td>365</td>\n",
       "      <td>0</td>\n",
       "      <td>NaN</td>\n",
       "    </tr>\n",
       "    <tr>\n",
       "      <th>2</th>\n",
       "      <td>71609</td>\n",
       "      <td>Ensuite Room (Room 1 &amp; 2) near EXPO</td>\n",
       "      <td>367042</td>\n",
       "      <td>Belinda</td>\n",
       "      <td>East Region</td>\n",
       "      <td>Tampines</td>\n",
       "      <td>1.34537</td>\n",
       "      <td>103.95887</td>\n",
       "      <td>Private room</td>\n",
       "      <td>143</td>\n",
       "      <td>92</td>\n",
       "      <td>20</td>\n",
       "      <td>2020-01-17</td>\n",
       "      <td>0.16</td>\n",
       "      <td>6</td>\n",
       "      <td>365</td>\n",
       "      <td>0</td>\n",
       "      <td>NaN</td>\n",
       "    </tr>\n",
       "    <tr>\n",
       "      <th>3</th>\n",
       "      <td>71896</td>\n",
       "      <td>B&amp;B  Room 1 near Airport &amp; EXPO</td>\n",
       "      <td>367042</td>\n",
       "      <td>Belinda</td>\n",
       "      <td>East Region</td>\n",
       "      <td>Tampines</td>\n",
       "      <td>1.34754</td>\n",
       "      <td>103.95958</td>\n",
       "      <td>Private room</td>\n",
       "      <td>83</td>\n",
       "      <td>92</td>\n",
       "      <td>24</td>\n",
       "      <td>2019-10-13</td>\n",
       "      <td>0.18</td>\n",
       "      <td>6</td>\n",
       "      <td>365</td>\n",
       "      <td>0</td>\n",
       "      <td>NaN</td>\n",
       "    </tr>\n",
       "    <tr>\n",
       "      <th>4</th>\n",
       "      <td>71903</td>\n",
       "      <td>Room 2-near Airport &amp; EXPO</td>\n",
       "      <td>367042</td>\n",
       "      <td>Belinda</td>\n",
       "      <td>East Region</td>\n",
       "      <td>Tampines</td>\n",
       "      <td>1.34531</td>\n",
       "      <td>103.96100</td>\n",
       "      <td>Private room</td>\n",
       "      <td>83</td>\n",
       "      <td>92</td>\n",
       "      <td>47</td>\n",
       "      <td>2020-01-09</td>\n",
       "      <td>0.35</td>\n",
       "      <td>6</td>\n",
       "      <td>365</td>\n",
       "      <td>0</td>\n",
       "      <td>NaN</td>\n",
       "    </tr>\n",
       "    <tr>\n",
       "      <th>...</th>\n",
       "      <td>...</td>\n",
       "      <td>...</td>\n",
       "      <td>...</td>\n",
       "      <td>...</td>\n",
       "      <td>...</td>\n",
       "      <td>...</td>\n",
       "      <td>...</td>\n",
       "      <td>...</td>\n",
       "      <td>...</td>\n",
       "      <td>...</td>\n",
       "      <td>...</td>\n",
       "      <td>...</td>\n",
       "      <td>...</td>\n",
       "      <td>...</td>\n",
       "      <td>...</td>\n",
       "      <td>...</td>\n",
       "      <td>...</td>\n",
       "      <td>...</td>\n",
       "    </tr>\n",
       "    <tr>\n",
       "      <th>4094</th>\n",
       "      <td>619111600921554733</td>\n",
       "      <td>JB Suasana-Spacious Comforts 1BR-vacations Trips</td>\n",
       "      <td>275883777</td>\n",
       "      <td>Lawrence</td>\n",
       "      <td>North Region</td>\n",
       "      <td>Woodlands</td>\n",
       "      <td>1.46257</td>\n",
       "      <td>103.76248</td>\n",
       "      <td>Entire home/apt</td>\n",
       "      <td>42</td>\n",
       "      <td>1</td>\n",
       "      <td>4</td>\n",
       "      <td>2022-06-19</td>\n",
       "      <td>4.00</td>\n",
       "      <td>1</td>\n",
       "      <td>255</td>\n",
       "      <td>4</td>\n",
       "      <td>NaN</td>\n",
       "    </tr>\n",
       "    <tr>\n",
       "      <th>4095</th>\n",
       "      <td>48290687</td>\n",
       "      <td>âSuasanaâ@UHA 1BR 2-4pax Mint Suite near H...</td>\n",
       "      <td>41870590</td>\n",
       "      <td>UHA Management</td>\n",
       "      <td>North Region</td>\n",
       "      <td>Woodlands</td>\n",
       "      <td>1.46270</td>\n",
       "      <td>103.76233</td>\n",
       "      <td>Entire home/apt</td>\n",
       "      <td>58</td>\n",
       "      <td>1</td>\n",
       "      <td>10</td>\n",
       "      <td>2022-05-14</td>\n",
       "      <td>0.62</td>\n",
       "      <td>67</td>\n",
       "      <td>359</td>\n",
       "      <td>6</td>\n",
       "      <td>NaN</td>\n",
       "    </tr>\n",
       "    <tr>\n",
       "      <th>4096</th>\n",
       "      <td>42796311</td>\n",
       "      <td>Almas Suite-S-Puteri Harbour Legoland-JBæ°å±±...</td>\n",
       "      <td>256745705</td>\n",
       "      <td>Penly</td>\n",
       "      <td>West Region</td>\n",
       "      <td>Western Water Catchment</td>\n",
       "      <td>1.41857</td>\n",
       "      <td>103.64993</td>\n",
       "      <td>Private room</td>\n",
       "      <td>42</td>\n",
       "      <td>1</td>\n",
       "      <td>28</td>\n",
       "      <td>2022-06-10</td>\n",
       "      <td>1.08</td>\n",
       "      <td>4</td>\n",
       "      <td>86</td>\n",
       "      <td>14</td>\n",
       "      <td>NaN</td>\n",
       "    </tr>\n",
       "    <tr>\n",
       "      <th>4097</th>\n",
       "      <td>34545618</td>\n",
       "      <td>European Style Spacious Suite (JOHOR BAHRU)14p...</td>\n",
       "      <td>189276703</td>\n",
       "      <td>Alan</td>\n",
       "      <td>North Region</td>\n",
       "      <td>Lim Chu Kang</td>\n",
       "      <td>1.46470</td>\n",
       "      <td>103.70167</td>\n",
       "      <td>Entire home/apt</td>\n",
       "      <td>220</td>\n",
       "      <td>28</td>\n",
       "      <td>0</td>\n",
       "      <td>31/12/2022</td>\n",
       "      <td>NaN</td>\n",
       "      <td>1</td>\n",
       "      <td>365</td>\n",
       "      <td>0</td>\n",
       "      <td>NaN</td>\n",
       "    </tr>\n",
       "    <tr>\n",
       "      <th>4098</th>\n",
       "      <td>595133307449923232</td>\n",
       "      <td>ãPrivate BBQ &amp; Sunset ViewãD'Potter Suite 2BR</td>\n",
       "      <td>351932154</td>\n",
       "      <td>Nest</td>\n",
       "      <td>North Region</td>\n",
       "      <td>Woodlands</td>\n",
       "      <td>1.46731</td>\n",
       "      <td>103.76589</td>\n",
       "      <td>Entire home/apt</td>\n",
       "      <td>87</td>\n",
       "      <td>1</td>\n",
       "      <td>24</td>\n",
       "      <td>2022-06-17</td>\n",
       "      <td>9.11</td>\n",
       "      <td>16</td>\n",
       "      <td>170</td>\n",
       "      <td>24</td>\n",
       "      <td>NaN</td>\n",
       "    </tr>\n",
       "  </tbody>\n",
       "</table>\n",
       "<p>4099 rows × 18 columns</p>\n",
       "</div>"
      ],
      "text/plain": [
       "                      id                                               name  \\\n",
       "0     595549893585733310   HCK[R&F] 2BR 2-4pax City View/Walk CIQ/Sunset@JB   \n",
       "1                  50646                    Pleasant Room along Bukit Timah   \n",
       "2                  71609                Ensuite Room (Room 1 & 2) near EXPO   \n",
       "3                  71896                    B&B  Room 1 near Airport & EXPO   \n",
       "4                  71903                         Room 2-near Airport & EXPO   \n",
       "...                  ...                                                ...   \n",
       "4094  619111600921554733   JB Suasana-Spacious Comforts 1BR-vacations Trips   \n",
       "4095            48290687  âSuasanaâ@UHA 1BR 2-4pax Mint Suite near H...   \n",
       "4096            42796311  Almas Suite-S-Puteri Harbour Legoland-JBæ°å±±...   \n",
       "4097            34545618  European Style Spacious Suite (JOHOR BAHRU)14p...   \n",
       "4098  595133307449923232  ãPrivate BBQ & Sunset ViewãD'Potter Suite 2BR   \n",
       "\n",
       "        host_id       host_name neighbourhood_group            neighbourhood  \\\n",
       "0      95993346           Kylie        North Region                Woodlands   \n",
       "1        227796         Sujatha      Central Region              Bukit Timah   \n",
       "2        367042         Belinda         East Region                 Tampines   \n",
       "3        367042         Belinda         East Region                 Tampines   \n",
       "4        367042         Belinda         East Region                 Tampines   \n",
       "...         ...             ...                 ...                      ...   \n",
       "4094  275883777        Lawrence        North Region                Woodlands   \n",
       "4095   41870590  UHA Management        North Region                Woodlands   \n",
       "4096  256745705           Penly         West Region  Western Water Catchment   \n",
       "4097  189276703            Alan        North Region             Lim Chu Kang   \n",
       "4098  351932154            Nest        North Region                Woodlands   \n",
       "\n",
       "      latitude  longitude        room_type  price  minimum_nights  \\\n",
       "0      1.45838  103.77033  Entire home/apt     58               1   \n",
       "1      1.33432  103.78521     Private room     80              92   \n",
       "2      1.34537  103.95887     Private room    143              92   \n",
       "3      1.34754  103.95958     Private room     83              92   \n",
       "4      1.34531  103.96100     Private room     83              92   \n",
       "...        ...        ...              ...    ...             ...   \n",
       "4094   1.46257  103.76248  Entire home/apt     42               1   \n",
       "4095   1.46270  103.76233  Entire home/apt     58               1   \n",
       "4096   1.41857  103.64993     Private room     42               1   \n",
       "4097   1.46470  103.70167  Entire home/apt    220              28   \n",
       "4098   1.46731  103.76589  Entire home/apt     87               1   \n",
       "\n",
       "      number_of_reviews last_review  reviews_per_month  \\\n",
       "0                     8  2022-05-01               3.43   \n",
       "1                    18  2014-12-26               0.18   \n",
       "2                    20  2020-01-17               0.16   \n",
       "3                    24  2019-10-13               0.18   \n",
       "4                    47  2020-01-09               0.35   \n",
       "...                 ...         ...                ...   \n",
       "4094                  4  2022-06-19               4.00   \n",
       "4095                 10  2022-05-14               0.62   \n",
       "4096                 28  2022-06-10               1.08   \n",
       "4097                  0  31/12/2022                NaN   \n",
       "4098                 24  2022-06-17               9.11   \n",
       "\n",
       "      calculated_host_listings_count  availability_365  number_of_reviews_ltm  \\\n",
       "0                                  1                18                      8   \n",
       "1                                  1               365                      0   \n",
       "2                                  6               365                      0   \n",
       "3                                  6               365                      0   \n",
       "4                                  6               365                      0   \n",
       "...                              ...               ...                    ...   \n",
       "4094                               1               255                      4   \n",
       "4095                              67               359                      6   \n",
       "4096                               4                86                     14   \n",
       "4097                               1               365                      0   \n",
       "4098                              16               170                     24   \n",
       "\n",
       "     license  \n",
       "0        NaN  \n",
       "1        NaN  \n",
       "2        NaN  \n",
       "3        NaN  \n",
       "4        NaN  \n",
       "...      ...  \n",
       "4094     NaN  \n",
       "4095     NaN  \n",
       "4096     NaN  \n",
       "4097     NaN  \n",
       "4098     NaN  \n",
       "\n",
       "[4099 rows x 18 columns]"
      ]
     },
     "execution_count": 50,
     "metadata": {},
     "output_type": "execute_result"
    }
   ],
   "source": [
    "#Rellenar valores nulos por un objeto en concreto, en este caso es una fecha para la columna last review\n",
    "data[\"last_review\"]= data[\"last_review\"].fillna(\"31/12/2022\") \n",
    "data"
   ]
  },
  {
   "cell_type": "code",
   "execution_count": 51,
   "metadata": {},
   "outputs": [
    {
     "data": {
      "text/plain": [
       "id                                   0\n",
       "name                                 0\n",
       "host_id                              0\n",
       "host_name                            0\n",
       "neighbourhood_group                  0\n",
       "neighbourhood                        0\n",
       "latitude                             0\n",
       "longitude                            0\n",
       "room_type                            0\n",
       "price                                0\n",
       "minimum_nights                       0\n",
       "number_of_reviews                    0\n",
       "last_review                          0\n",
       "reviews_per_month                 1598\n",
       "calculated_host_listings_count       0\n",
       "availability_365                     0\n",
       "number_of_reviews_ltm                0\n",
       "license                           3377\n",
       "dtype: int64"
      ]
     },
     "execution_count": 51,
     "metadata": {},
     "output_type": "execute_result"
    }
   ],
   "source": [
    "#Comprobar corrección de valores nulos\n",
    "valores_nulos=data.isnull().sum()\n",
    "valores_nulos"
   ]
  },
  {
   "cell_type": "code",
   "execution_count": 52,
   "metadata": {},
   "outputs": [
    {
     "data": {
      "text/html": [
       "<div>\n",
       "<style scoped>\n",
       "    .dataframe tbody tr th:only-of-type {\n",
       "        vertical-align: middle;\n",
       "    }\n",
       "\n",
       "    .dataframe tbody tr th {\n",
       "        vertical-align: top;\n",
       "    }\n",
       "\n",
       "    .dataframe thead th {\n",
       "        text-align: right;\n",
       "    }\n",
       "</style>\n",
       "<table border=\"1\" class=\"dataframe\">\n",
       "  <thead>\n",
       "    <tr style=\"text-align: right;\">\n",
       "      <th></th>\n",
       "      <th>id</th>\n",
       "      <th>name</th>\n",
       "      <th>host_id</th>\n",
       "      <th>host_name</th>\n",
       "      <th>neighbourhood_group</th>\n",
       "      <th>neighbourhood</th>\n",
       "      <th>latitude</th>\n",
       "      <th>longitude</th>\n",
       "      <th>room_type</th>\n",
       "      <th>price</th>\n",
       "      <th>minimum_nights</th>\n",
       "      <th>number_of_reviews</th>\n",
       "      <th>last_review</th>\n",
       "      <th>reviews_per_month</th>\n",
       "      <th>calculated_host_listings_count</th>\n",
       "      <th>availability_365</th>\n",
       "      <th>number_of_reviews_ltm</th>\n",
       "      <th>license</th>\n",
       "    </tr>\n",
       "  </thead>\n",
       "  <tbody>\n",
       "    <tr>\n",
       "      <th>0</th>\n",
       "      <td>595549893585733310</td>\n",
       "      <td>HCK[R&amp;F] 2BR 2-4pax City View/Walk CIQ/Sunset@JB</td>\n",
       "      <td>95993346</td>\n",
       "      <td>Kylie</td>\n",
       "      <td>North Region</td>\n",
       "      <td>Woodlands</td>\n",
       "      <td>1.45838</td>\n",
       "      <td>103.77033</td>\n",
       "      <td>Entire home/apt</td>\n",
       "      <td>58</td>\n",
       "      <td>1</td>\n",
       "      <td>8</td>\n",
       "      <td>2022-05-01</td>\n",
       "      <td>3.43</td>\n",
       "      <td>1</td>\n",
       "      <td>18</td>\n",
       "      <td>8</td>\n",
       "      <td>NaN</td>\n",
       "    </tr>\n",
       "    <tr>\n",
       "      <th>1</th>\n",
       "      <td>50646</td>\n",
       "      <td>Pleasant Room along Bukit Timah</td>\n",
       "      <td>227796</td>\n",
       "      <td>Sujatha</td>\n",
       "      <td>Central Region</td>\n",
       "      <td>Bukit Timah</td>\n",
       "      <td>1.33432</td>\n",
       "      <td>103.78521</td>\n",
       "      <td>Private room</td>\n",
       "      <td>80</td>\n",
       "      <td>92</td>\n",
       "      <td>18</td>\n",
       "      <td>2014-12-26</td>\n",
       "      <td>0.18</td>\n",
       "      <td>1</td>\n",
       "      <td>365</td>\n",
       "      <td>0</td>\n",
       "      <td>NaN</td>\n",
       "    </tr>\n",
       "    <tr>\n",
       "      <th>2</th>\n",
       "      <td>71609</td>\n",
       "      <td>Ensuite Room (Room 1 &amp; 2) near EXPO</td>\n",
       "      <td>367042</td>\n",
       "      <td>Belinda</td>\n",
       "      <td>East Region</td>\n",
       "      <td>Tampines</td>\n",
       "      <td>1.34537</td>\n",
       "      <td>103.95887</td>\n",
       "      <td>Private room</td>\n",
       "      <td>143</td>\n",
       "      <td>92</td>\n",
       "      <td>20</td>\n",
       "      <td>2020-01-17</td>\n",
       "      <td>0.16</td>\n",
       "      <td>6</td>\n",
       "      <td>365</td>\n",
       "      <td>0</td>\n",
       "      <td>NaN</td>\n",
       "    </tr>\n",
       "    <tr>\n",
       "      <th>3</th>\n",
       "      <td>71896</td>\n",
       "      <td>B&amp;B  Room 1 near Airport &amp; EXPO</td>\n",
       "      <td>367042</td>\n",
       "      <td>Belinda</td>\n",
       "      <td>East Region</td>\n",
       "      <td>Tampines</td>\n",
       "      <td>1.34754</td>\n",
       "      <td>103.95958</td>\n",
       "      <td>Private room</td>\n",
       "      <td>83</td>\n",
       "      <td>92</td>\n",
       "      <td>24</td>\n",
       "      <td>2019-10-13</td>\n",
       "      <td>0.18</td>\n",
       "      <td>6</td>\n",
       "      <td>365</td>\n",
       "      <td>0</td>\n",
       "      <td>NaN</td>\n",
       "    </tr>\n",
       "    <tr>\n",
       "      <th>4</th>\n",
       "      <td>71903</td>\n",
       "      <td>Room 2-near Airport &amp; EXPO</td>\n",
       "      <td>367042</td>\n",
       "      <td>Belinda</td>\n",
       "      <td>East Region</td>\n",
       "      <td>Tampines</td>\n",
       "      <td>1.34531</td>\n",
       "      <td>103.96100</td>\n",
       "      <td>Private room</td>\n",
       "      <td>83</td>\n",
       "      <td>92</td>\n",
       "      <td>47</td>\n",
       "      <td>2020-01-09</td>\n",
       "      <td>0.35</td>\n",
       "      <td>6</td>\n",
       "      <td>365</td>\n",
       "      <td>0</td>\n",
       "      <td>NaN</td>\n",
       "    </tr>\n",
       "    <tr>\n",
       "      <th>...</th>\n",
       "      <td>...</td>\n",
       "      <td>...</td>\n",
       "      <td>...</td>\n",
       "      <td>...</td>\n",
       "      <td>...</td>\n",
       "      <td>...</td>\n",
       "      <td>...</td>\n",
       "      <td>...</td>\n",
       "      <td>...</td>\n",
       "      <td>...</td>\n",
       "      <td>...</td>\n",
       "      <td>...</td>\n",
       "      <td>...</td>\n",
       "      <td>...</td>\n",
       "      <td>...</td>\n",
       "      <td>...</td>\n",
       "      <td>...</td>\n",
       "      <td>...</td>\n",
       "    </tr>\n",
       "    <tr>\n",
       "      <th>4094</th>\n",
       "      <td>619111600921554733</td>\n",
       "      <td>JB Suasana-Spacious Comforts 1BR-vacations Trips</td>\n",
       "      <td>275883777</td>\n",
       "      <td>Lawrence</td>\n",
       "      <td>North Region</td>\n",
       "      <td>Woodlands</td>\n",
       "      <td>1.46257</td>\n",
       "      <td>103.76248</td>\n",
       "      <td>Entire home/apt</td>\n",
       "      <td>42</td>\n",
       "      <td>1</td>\n",
       "      <td>4</td>\n",
       "      <td>2022-06-19</td>\n",
       "      <td>4.00</td>\n",
       "      <td>1</td>\n",
       "      <td>255</td>\n",
       "      <td>4</td>\n",
       "      <td>NaN</td>\n",
       "    </tr>\n",
       "    <tr>\n",
       "      <th>4095</th>\n",
       "      <td>48290687</td>\n",
       "      <td>âSuasanaâ@UHA 1BR 2-4pax Mint Suite near H...</td>\n",
       "      <td>41870590</td>\n",
       "      <td>UHA Management</td>\n",
       "      <td>North Region</td>\n",
       "      <td>Woodlands</td>\n",
       "      <td>1.46270</td>\n",
       "      <td>103.76233</td>\n",
       "      <td>Entire home/apt</td>\n",
       "      <td>58</td>\n",
       "      <td>1</td>\n",
       "      <td>10</td>\n",
       "      <td>2022-05-14</td>\n",
       "      <td>0.62</td>\n",
       "      <td>67</td>\n",
       "      <td>359</td>\n",
       "      <td>6</td>\n",
       "      <td>NaN</td>\n",
       "    </tr>\n",
       "    <tr>\n",
       "      <th>4096</th>\n",
       "      <td>42796311</td>\n",
       "      <td>Almas Suite-S-Puteri Harbour Legoland-JBæ°å±±...</td>\n",
       "      <td>256745705</td>\n",
       "      <td>Penly</td>\n",
       "      <td>West Region</td>\n",
       "      <td>Western Water Catchment</td>\n",
       "      <td>1.41857</td>\n",
       "      <td>103.64993</td>\n",
       "      <td>Private room</td>\n",
       "      <td>42</td>\n",
       "      <td>1</td>\n",
       "      <td>28</td>\n",
       "      <td>2022-06-10</td>\n",
       "      <td>1.08</td>\n",
       "      <td>4</td>\n",
       "      <td>86</td>\n",
       "      <td>14</td>\n",
       "      <td>NaN</td>\n",
       "    </tr>\n",
       "    <tr>\n",
       "      <th>4097</th>\n",
       "      <td>34545618</td>\n",
       "      <td>European Style Spacious Suite (JOHOR BAHRU)14p...</td>\n",
       "      <td>189276703</td>\n",
       "      <td>Alan</td>\n",
       "      <td>North Region</td>\n",
       "      <td>Lim Chu Kang</td>\n",
       "      <td>1.46470</td>\n",
       "      <td>103.70167</td>\n",
       "      <td>Entire home/apt</td>\n",
       "      <td>220</td>\n",
       "      <td>28</td>\n",
       "      <td>0</td>\n",
       "      <td>31/12/2022</td>\n",
       "      <td>0.88</td>\n",
       "      <td>1</td>\n",
       "      <td>365</td>\n",
       "      <td>0</td>\n",
       "      <td>NaN</td>\n",
       "    </tr>\n",
       "    <tr>\n",
       "      <th>4098</th>\n",
       "      <td>595133307449923232</td>\n",
       "      <td>ãPrivate BBQ &amp; Sunset ViewãD'Potter Suite 2BR</td>\n",
       "      <td>351932154</td>\n",
       "      <td>Nest</td>\n",
       "      <td>North Region</td>\n",
       "      <td>Woodlands</td>\n",
       "      <td>1.46731</td>\n",
       "      <td>103.76589</td>\n",
       "      <td>Entire home/apt</td>\n",
       "      <td>87</td>\n",
       "      <td>1</td>\n",
       "      <td>24</td>\n",
       "      <td>2022-06-17</td>\n",
       "      <td>9.11</td>\n",
       "      <td>16</td>\n",
       "      <td>170</td>\n",
       "      <td>24</td>\n",
       "      <td>NaN</td>\n",
       "    </tr>\n",
       "  </tbody>\n",
       "</table>\n",
       "<p>4099 rows × 18 columns</p>\n",
       "</div>"
      ],
      "text/plain": [
       "                      id                                               name  \\\n",
       "0     595549893585733310   HCK[R&F] 2BR 2-4pax City View/Walk CIQ/Sunset@JB   \n",
       "1                  50646                    Pleasant Room along Bukit Timah   \n",
       "2                  71609                Ensuite Room (Room 1 & 2) near EXPO   \n",
       "3                  71896                    B&B  Room 1 near Airport & EXPO   \n",
       "4                  71903                         Room 2-near Airport & EXPO   \n",
       "...                  ...                                                ...   \n",
       "4094  619111600921554733   JB Suasana-Spacious Comforts 1BR-vacations Trips   \n",
       "4095            48290687  âSuasanaâ@UHA 1BR 2-4pax Mint Suite near H...   \n",
       "4096            42796311  Almas Suite-S-Puteri Harbour Legoland-JBæ°å±±...   \n",
       "4097            34545618  European Style Spacious Suite (JOHOR BAHRU)14p...   \n",
       "4098  595133307449923232  ãPrivate BBQ & Sunset ViewãD'Potter Suite 2BR   \n",
       "\n",
       "        host_id       host_name neighbourhood_group            neighbourhood  \\\n",
       "0      95993346           Kylie        North Region                Woodlands   \n",
       "1        227796         Sujatha      Central Region              Bukit Timah   \n",
       "2        367042         Belinda         East Region                 Tampines   \n",
       "3        367042         Belinda         East Region                 Tampines   \n",
       "4        367042         Belinda         East Region                 Tampines   \n",
       "...         ...             ...                 ...                      ...   \n",
       "4094  275883777        Lawrence        North Region                Woodlands   \n",
       "4095   41870590  UHA Management        North Region                Woodlands   \n",
       "4096  256745705           Penly         West Region  Western Water Catchment   \n",
       "4097  189276703            Alan        North Region             Lim Chu Kang   \n",
       "4098  351932154            Nest        North Region                Woodlands   \n",
       "\n",
       "      latitude  longitude        room_type  price  minimum_nights  \\\n",
       "0      1.45838  103.77033  Entire home/apt     58               1   \n",
       "1      1.33432  103.78521     Private room     80              92   \n",
       "2      1.34537  103.95887     Private room    143              92   \n",
       "3      1.34754  103.95958     Private room     83              92   \n",
       "4      1.34531  103.96100     Private room     83              92   \n",
       "...        ...        ...              ...    ...             ...   \n",
       "4094   1.46257  103.76248  Entire home/apt     42               1   \n",
       "4095   1.46270  103.76233  Entire home/apt     58               1   \n",
       "4096   1.41857  103.64993     Private room     42               1   \n",
       "4097   1.46470  103.70167  Entire home/apt    220              28   \n",
       "4098   1.46731  103.76589  Entire home/apt     87               1   \n",
       "\n",
       "      number_of_reviews last_review  reviews_per_month  \\\n",
       "0                     8  2022-05-01               3.43   \n",
       "1                    18  2014-12-26               0.18   \n",
       "2                    20  2020-01-17               0.16   \n",
       "3                    24  2019-10-13               0.18   \n",
       "4                    47  2020-01-09               0.35   \n",
       "...                 ...         ...                ...   \n",
       "4094                  4  2022-06-19               4.00   \n",
       "4095                 10  2022-05-14               0.62   \n",
       "4096                 28  2022-06-10               1.08   \n",
       "4097                  0  31/12/2022               0.88   \n",
       "4098                 24  2022-06-17               9.11   \n",
       "\n",
       "      calculated_host_listings_count  availability_365  number_of_reviews_ltm  \\\n",
       "0                                  1                18                      8   \n",
       "1                                  1               365                      0   \n",
       "2                                  6               365                      0   \n",
       "3                                  6               365                      0   \n",
       "4                                  6               365                      0   \n",
       "...                              ...               ...                    ...   \n",
       "4094                               1               255                      4   \n",
       "4095                              67               359                      6   \n",
       "4096                               4                86                     14   \n",
       "4097                               1               365                      0   \n",
       "4098                              16               170                     24   \n",
       "\n",
       "     license  \n",
       "0        NaN  \n",
       "1        NaN  \n",
       "2        NaN  \n",
       "3        NaN  \n",
       "4        NaN  \n",
       "...      ...  \n",
       "4094     NaN  \n",
       "4095     NaN  \n",
       "4096     NaN  \n",
       "4097     NaN  \n",
       "4098     NaN  \n",
       "\n",
       "[4099 rows x 18 columns]"
      ]
     },
     "execution_count": 52,
     "metadata": {},
     "output_type": "execute_result"
    }
   ],
   "source": [
    "#Rellenar con el valor de media de la columna los valores nulos de la columna \"reviews per month\". Se utilizan 2 decimales debido a que asi son los valores encontrados en la columna. \n",
    "data[\"reviews_per_month\"]=data[\"reviews_per_month\"].fillna(round(data[\"reviews_per_month\"].mean(),2))\n",
    "data"
   ]
  },
  {
   "cell_type": "code",
   "execution_count": 53,
   "metadata": {},
   "outputs": [
    {
     "data": {
      "text/plain": [
       "id                                   0\n",
       "name                                 0\n",
       "host_id                              0\n",
       "host_name                            0\n",
       "neighbourhood_group                  0\n",
       "neighbourhood                        0\n",
       "latitude                             0\n",
       "longitude                            0\n",
       "room_type                            0\n",
       "price                                0\n",
       "minimum_nights                       0\n",
       "number_of_reviews                    0\n",
       "last_review                          0\n",
       "reviews_per_month                    0\n",
       "calculated_host_listings_count       0\n",
       "availability_365                     0\n",
       "number_of_reviews_ltm                0\n",
       "license                           3377\n",
       "dtype: int64"
      ]
     },
     "execution_count": 53,
     "metadata": {},
     "output_type": "execute_result"
    }
   ],
   "source": [
    "#Comprobar corrección de valores nulos\n",
    "valores_nulos=data.isnull().sum()\n",
    "valores_nulos"
   ]
  },
  {
   "cell_type": "code",
   "execution_count": 54,
   "metadata": {},
   "outputs": [
    {
     "name": "stderr",
     "output_type": "stream",
     "text": [
      "/var/folders/h7/3hswkg9n4t7_f3vwwzsc1gv40000gn/T/ipykernel_35922/3922996289.py:3: FutureWarning: In a future version of pandas all arguments of DataFrame.dropna will be keyword-only.\n",
      "  data=data.dropna(1)\n"
     ]
    }
   ],
   "source": [
    "#Debido a que en la columna \"license\" hay demasiados outliers, se eliminará\n",
    "#Eliminamos columnas con nulos\n",
    "data=data.dropna(1)"
   ]
  },
  {
   "cell_type": "code",
   "execution_count": 55,
   "metadata": {},
   "outputs": [
    {
     "data": {
      "text/plain": [
       "id                                0\n",
       "name                              0\n",
       "host_id                           0\n",
       "host_name                         0\n",
       "neighbourhood_group               0\n",
       "neighbourhood                     0\n",
       "latitude                          0\n",
       "longitude                         0\n",
       "room_type                         0\n",
       "price                             0\n",
       "minimum_nights                    0\n",
       "number_of_reviews                 0\n",
       "last_review                       0\n",
       "reviews_per_month                 0\n",
       "calculated_host_listings_count    0\n",
       "availability_365                  0\n",
       "number_of_reviews_ltm             0\n",
       "dtype: int64"
      ]
     },
     "execution_count": 55,
     "metadata": {},
     "output_type": "execute_result"
    }
   ],
   "source": [
    "#Comprobar corrección de valores nulos\n",
    "valores_nulos=data.isnull().sum()\n",
    "valores_nulos"
   ]
  },
  {
   "cell_type": "code",
   "execution_count": 56,
   "metadata": {},
   "outputs": [
    {
     "data": {
      "text/plain": [
       "0"
      ]
     },
     "execution_count": 56,
     "metadata": {},
     "output_type": "execute_result"
    }
   ],
   "source": [
    "#Asegurar que ya no hay datos nulos en toda la base de datos\n",
    "cuenta_nulos= data.isnull().sum().sum()\n",
    "cuenta_nulos"
   ]
  },
  {
   "cell_type": "code",
   "execution_count": 57,
   "metadata": {},
   "outputs": [
    {
     "name": "stdout",
     "output_type": "stream",
     "text": [
      "Limite superior permitido 1499.2164553076586\n",
      "Limite inferior permitido -1115.1686387670388\n"
     ]
    }
   ],
   "source": [
    "#Aplicación de método de distribución normal para identificar outliers, límites de 3 desviaciones estándar para variable de price\n",
    "y3=data[\"price\"]\n",
    "limite_superior3= y3.mean() + 3*y3.std()\n",
    "limite_inferior3= y3.mean() - 3*y3.std()\n",
    "print(\"Limite superior permitido\", limite_superior3)\n",
    "print(\"Limite inferior permitido\", limite_inferior3)"
   ]
  },
  {
   "cell_type": "code",
   "execution_count": 58,
   "metadata": {},
   "outputs": [
    {
     "data": {
      "text/plain": [
       "28"
      ]
     },
     "execution_count": 58,
     "metadata": {},
     "output_type": "execute_result"
    }
   ],
   "source": [
    "#Encontramos outliers\n",
    "outliers3= data[(y3>limite_superior3)|(y3<limite_inferior3)]\n",
    "outliers3\n",
    "len(outliers3)"
   ]
  },
  {
   "cell_type": "code",
   "execution_count": 59,
   "metadata": {},
   "outputs": [
    {
     "data": {
      "image/png": "[encoded data removed]",
      "text/plain": [
       "<Figure size 432x288 with 1 Axes>"
      ]
     },
     "metadata": {
      "needs_background": "light"
     },
     "output_type": "display_data"
    }
   ],
   "source": [
    "#Realizamos diagrama de caja o bigote\n",
    "fig3 = plt.figure(figsize =(6, 4))\n",
    "plt.boxplot(data[\"price\"]) \n",
    "plt.title(\"Outliers de price\")\n",
    "plt.show() "
   ]
  },
  {
   "cell_type": "code",
   "execution_count": 60,
   "metadata": {},
   "outputs": [
    {
     "name": "stdout",
     "output_type": "stream",
     "text": [
      "Limite superior permitido 272.7985764894792\n",
      "Limite inferior permitido -145.35383386932796\n"
     ]
    }
   ],
   "source": [
    "#Aplicación de método de distribución normal para identificar outliers, límites de 3 desviaciones estándar para variable de minimum nights\n",
    "y4=data[\"minimum_nights\"]\n",
    "limite_superior4= y4.mean() + 3*y4.std()\n",
    "limite_inferior4= y4.mean() - 3*y4.std()\n",
    "print(\"Limite superior permitido\", limite_superior4)\n",
    "print(\"Limite inferior permitido\", limite_inferior4)"
   ]
  },
  {
   "cell_type": "code",
   "execution_count": 61,
   "metadata": {},
   "outputs": [
    {
     "data": {
      "text/plain": [
       "63"
      ]
     },
     "execution_count": 61,
     "metadata": {},
     "output_type": "execute_result"
    }
   ],
   "source": [
    "#Encontramos outliers\n",
    "outliers4= data[(y4>limite_superior4)|(y4<limite_inferior4)]\n",
    "outliers4\n",
    "len(outliers4)"
   ]
  },
  {
   "cell_type": "code",
   "execution_count": 62,
   "metadata": {},
   "outputs": [
    {
     "data": {
      "image/png": "[encoded data removed]",
      "text/plain": [
       "<Figure size 432x288 with 1 Axes>"
      ]
     },
     "metadata": {
      "needs_background": "light"
     },
     "output_type": "display_data"
    }
   ],
   "source": [
    "#Realizamos diagrama de caja o bigote\n",
    "fig4 = plt.figure(figsize =(6, 4))\n",
    "plt.boxplot(data[\"minimum_nights\"]) \n",
    "plt.title(\"Outliers de minimum nights\")\n",
    "plt.show() "
   ]
  },
  {
   "cell_type": "code",
   "execution_count": 63,
   "metadata": {},
   "outputs": [
    {
     "name": "stdout",
     "output_type": "stream",
     "text": [
      "Limite superior permitido 118.74962311570266\n",
      "Limite inferior permitido -91.47906932209446\n"
     ]
    }
   ],
   "source": [
    "#Aplicación de método de distribución normal para identificar outliers, límites de 3 desviaciones estándar para variable de number of reviews\n",
    "y5=data[\"number_of_reviews\"]\n",
    "limite_superior5= y5.mean() + 3*y5.std()\n",
    "limite_inferior5= y5.mean() - 3*y5.std()\n",
    "print(\"Limite superior permitido\", limite_superior5)\n",
    "print(\"Limite inferior permitido\", limite_inferior5)"
   ]
  },
  {
   "cell_type": "code",
   "execution_count": 64,
   "metadata": {},
   "outputs": [
    {
     "data": {
      "text/plain": [
       "108"
      ]
     },
     "execution_count": 64,
     "metadata": {},
     "output_type": "execute_result"
    }
   ],
   "source": [
    "#Encontramos outliers\n",
    "outliers5= data[(y5>limite_superior5)|(y5<limite_inferior5)]\n",
    "outliers5\n",
    "len(outliers5)"
   ]
  },
  {
   "cell_type": "code",
   "execution_count": 65,
   "metadata": {},
   "outputs": [
    {
     "data": {
      "image/png": "[encoded data removed]",
      "text/plain": [
       "<Figure size 432x288 with 1 Axes>"
      ]
     },
     "metadata": {
      "needs_background": "light"
     },
     "output_type": "display_data"
    }
   ],
   "source": [
    "#Realizamos diagrama de caja o bigote\n",
    "fig5 = plt.figure(figsize =(6, 4))\n",
    "plt.boxplot(data[\"number_of_reviews\"]) \n",
    "plt.title(\"Outliers de number of reviews\")\n",
    "plt.show() "
   ]
  },
  {
   "cell_type": "code",
   "execution_count": 66,
   "metadata": {},
   "outputs": [
    {
     "name": "stdout",
     "output_type": "stream",
     "text": [
      "Limite superior permitido 4.219794675701626\n",
      "Limite inferior permitido -2.455915680824826\n"
     ]
    }
   ],
   "source": [
    "#Aplicación de método de distribución normal para identificar outliers, límites de 3 desviaciones estándar para variable de reviews per month\n",
    "y6=data[\"reviews_per_month\"]\n",
    "limite_superior6= y6.mean() + 3*y6.std()\n",
    "limite_inferior6= y6.mean() - 3*y6.std()\n",
    "print(\"Limite superior permitido\", limite_superior6)\n",
    "print(\"Limite inferior permitido\", limite_inferior6)"
   ]
  },
  {
   "cell_type": "code",
   "execution_count": 67,
   "metadata": {},
   "outputs": [
    {
     "data": {
      "text/plain": [
       "103"
      ]
     },
     "execution_count": 67,
     "metadata": {},
     "output_type": "execute_result"
    }
   ],
   "source": [
    "#Encontramos outliers\n",
    "outliers6= data[(y6>limite_superior6)|(y6<limite_inferior6)]\n",
    "outliers6\n",
    "len(outliers6)"
   ]
  },
  {
   "cell_type": "code",
   "execution_count": 68,
   "metadata": {},
   "outputs": [
    {
     "data": {
      "image/png": "[encoded data removed]",
      "text/plain": [
       "<Figure size 432x288 with 1 Axes>"
      ]
     },
     "metadata": {
      "needs_background": "light"
     },
     "output_type": "display_data"
    }
   ],
   "source": [
    "#Realizamos diagrama de caja o bigote\n",
    "fig6 = plt.figure(figsize =(6, 4))\n",
    "plt.boxplot(data[\"reviews_per_month\"]) \n",
    "plt.title(\"Outliers de reviews per month\")\n",
    "plt.show() "
   ]
  },
  {
   "cell_type": "code",
   "execution_count": 69,
   "metadata": {},
   "outputs": [
    {
     "name": "stdout",
     "output_type": "stream",
     "text": [
      "Limite superior permitido 644.1616608623859\n",
      "Limite inferior permitido -146.78717928151252\n"
     ]
    }
   ],
   "source": [
    "#Aplicación de método de distribución normal para identificar outliers, límites de 3 desviaciones estándar para variable de availability_365\n",
    "y7=data[\"availability_365\"]\n",
    "limite_superior7= y7.mean() + 3*y7.std()\n",
    "limite_inferior7= y7.mean() - 3*y7.std()\n",
    "print(\"Limite superior permitido\", limite_superior7)\n",
    "print(\"Limite inferior permitido\", limite_inferior7)"
   ]
  },
  {
   "cell_type": "code",
   "execution_count": 70,
   "metadata": {},
   "outputs": [
    {
     "data": {
      "text/plain": [
       "0"
      ]
     },
     "execution_count": 70,
     "metadata": {},
     "output_type": "execute_result"
    }
   ],
   "source": [
    "#Encontramos outliers\n",
    "outliers7= data[(y7>limite_superior7)|(y7<limite_inferior7)]\n",
    "outliers7\n",
    "len(outliers7)"
   ]
  },
  {
   "cell_type": "code",
   "execution_count": 71,
   "metadata": {},
   "outputs": [
    {
     "data": {
      "image/png": "[encoded data removed]",
      "text/plain": [
       "<Figure size 432x288 with 1 Axes>"
      ]
     },
     "metadata": {
      "needs_background": "light"
     },
     "output_type": "display_data"
    }
   ],
   "source": [
    "#Realizamos diagrama de caja o bigote\n",
    "fig7 = plt.figure(figsize =(6, 4))\n",
    "plt.boxplot(data[\"availability_365\"]) \n",
    "plt.title(\"Outliers de availability 365\")\n",
    "plt.show() "
   ]
  },
  {
   "cell_type": "code",
   "execution_count": 72,
   "metadata": {},
   "outputs": [
    {
     "name": "stdout",
     "output_type": "stream",
     "text": [
      "Limite superior permitido 411.5\n",
      "Limite inferior permitido -152.5\n"
     ]
    }
   ],
   "source": [
    "#Aplicar método de rango intercuartílico para identificar outliers, tomando como límites 1.5 IQR para columna price\n",
    "y10=data[\"price\"]\n",
    "\n",
    "percentile2510=y10.quantile(0.25) #Q1\n",
    "percentile7510=y10.quantile(0.75) #Q3\n",
    "iqr10= percentile7510 - percentile2510\n",
    "\n",
    "limite_superior_iqr10= percentile7510 + 1.5*iqr10\n",
    "limite_inferior_iqr10= percentile2510 - 1.5*iqr10\n",
    "print(\"Limite superior permitido\", limite_superior_iqr10)\n",
    "print(\"Limite inferior permitido\", limite_inferior_iqr10)"
   ]
  },
  {
   "cell_type": "code",
   "execution_count": 73,
   "metadata": {},
   "outputs": [
    {
     "data": {
      "text/plain": [
       "346"
      ]
     },
     "execution_count": 73,
     "metadata": {},
     "output_type": "execute_result"
    }
   ],
   "source": [
    "#Identificar outliers\n",
    "outliers_iqr10=data[(y10>limite_superior_iqr10)|(y10<limite_inferior_iqr10)]\n",
    "outliers_iqr10\n",
    "len(outliers_iqr10)"
   ]
  },
  {
   "cell_type": "code",
   "execution_count": 74,
   "metadata": {},
   "outputs": [
    {
     "name": "stdout",
     "output_type": "stream",
     "text": [
      "Limite superior permitido 228.5\n",
      "Limite inferior permitido -135.5\n"
     ]
    }
   ],
   "source": [
    "#Aplicar método de rango intercuartílico para identificar outliers, tomando como límites 1.5 IQR para columna minimum nights\n",
    "y11=data[\"minimum_nights\"]\n",
    "\n",
    "percentile2511=y11.quantile(0.25) #Q1\n",
    "percentile7511=y11.quantile(0.75) #Q3\n",
    "iqr11= percentile7511 - percentile2511\n",
    "\n",
    "limite_superior_iqr11= percentile7511 + 1.5*iqr11\n",
    "limite_inferior_iqr11= percentile2511 - 1.5*iqr11\n",
    "print(\"Limite superior permitido\", limite_superior_iqr11)\n",
    "print(\"Limite inferior permitido\", limite_inferior_iqr11)"
   ]
  },
  {
   "cell_type": "code",
   "execution_count": 75,
   "metadata": {},
   "outputs": [
    {
     "data": {
      "text/plain": [
       "64"
      ]
     },
     "execution_count": 75,
     "metadata": {},
     "output_type": "execute_result"
    }
   ],
   "source": [
    "#Identificar outliers\n",
    "outliers_iqr11=data[(y11>limite_superior_iqr11)|(y11<limite_inferior_iqr11)]\n",
    "outliers_iqr11\n",
    "len(outliers_iqr11)"
   ]
  },
  {
   "cell_type": "code",
   "execution_count": 76,
   "metadata": {},
   "outputs": [
    {
     "name": "stdout",
     "output_type": "stream",
     "text": [
      "Limite superior permitido 22.5\n",
      "Limite inferior permitido -13.5\n"
     ]
    }
   ],
   "source": [
    "#Aplicar método de rango intercuartílico para identificar outliers, tomando como límites 1.5 IQR para columna number of reviews\n",
    "y12=data[\"number_of_reviews\"]\n",
    "\n",
    "percentile2512=y12.quantile(0.25) #Q1\n",
    "percentile7512=y12.quantile(0.75) #Q3\n",
    "iqr12= percentile7512 - percentile2512\n",
    "\n",
    "limite_superior_iqr12= percentile7512 + 1.5*iqr12\n",
    "limite_inferior_iqr12= percentile2512 - 1.5*iqr12\n",
    "print(\"Limite superior permitido\", limite_superior_iqr12)\n",
    "print(\"Limite inferior permitido\", limite_inferior_iqr12)"
   ]
  },
  {
   "cell_type": "code",
   "execution_count": 77,
   "metadata": {},
   "outputs": [
    {
     "data": {
      "text/plain": [
       "609"
      ]
     },
     "execution_count": 77,
     "metadata": {},
     "output_type": "execute_result"
    }
   ],
   "source": [
    "#Identificar outliers\n",
    "outliers_iqr12=data[(y12>limite_superior_iqr12)|(y12<limite_inferior_iqr12)]\n",
    "outliers_iqr12\n",
    "len(outliers_iqr12)"
   ]
  },
  {
   "cell_type": "code",
   "execution_count": 78,
   "metadata": {},
   "outputs": [
    {
     "name": "stdout",
     "output_type": "stream",
     "text": [
      "Limite superior permitido 1.9449999999999998\n",
      "Limite inferior permitido -0.8949999999999999\n"
     ]
    }
   ],
   "source": [
    "#Aplicar método de rango intercuartílico para identificar outliers, tomando como límites 1.5 IQR para columna reviews per month\n",
    "y13=data[\"reviews_per_month\"]\n",
    "\n",
    "percentile2513=y13.quantile(0.25) #Q1\n",
    "percentile7513=y13.quantile(0.75) #Q3\n",
    "iqr13= percentile7513 - percentile2513\n",
    "\n",
    "limite_superior_iqr13= percentile7513 + 1.5*iqr13\n",
    "limite_inferior_iqr13= percentile2513 - 1.5*iqr13\n",
    "print(\"Limite superior permitido\", limite_superior_iqr13)\n",
    "print(\"Limite inferior permitido\", limite_inferior_iqr13)"
   ]
  },
  {
   "cell_type": "code",
   "execution_count": 79,
   "metadata": {},
   "outputs": [
    {
     "data": {
      "text/plain": [
       "355"
      ]
     },
     "execution_count": 79,
     "metadata": {},
     "output_type": "execute_result"
    }
   ],
   "source": [
    "#Identificar outliers\n",
    "outliers_iqr13=data[(y13>limite_superior_iqr13)|(y13<limite_inferior_iqr13)]\n",
    "outliers_iqr13\n",
    "len(outliers_iqr13)"
   ]
  },
  {
   "cell_type": "code",
   "execution_count": 80,
   "metadata": {},
   "outputs": [
    {
     "name": "stdout",
     "output_type": "stream",
     "text": [
      "Limite superior permitido 679.75\n",
      "Limite inferior permitido -162.25\n"
     ]
    }
   ],
   "source": [
    "#Aplicar método de rango intercuartílico para identificar outliers, tomando como límites 1.5 IQR para columna availability 365\n",
    "y14=data[\"availability_365\"]\n",
    "\n",
    "percentile2514=y14.quantile(0.25) #Q1\n",
    "percentile7514=y14.quantile(0.75) #Q3\n",
    "iqr14= percentile7514 - percentile2514\n",
    "\n",
    "limite_superior_iqr14= percentile7514 + 1.5*iqr14\n",
    "limite_inferior_iqr14= percentile2514 - 1.5*iqr14\n",
    "print(\"Limite superior permitido\", limite_superior_iqr14)\n",
    "print(\"Limite inferior permitido\", limite_inferior_iqr14)"
   ]
  },
  {
   "cell_type": "code",
   "execution_count": 81,
   "metadata": {},
   "outputs": [
    {
     "data": {
      "text/plain": [
       "0"
      ]
     },
     "execution_count": 81,
     "metadata": {},
     "output_type": "execute_result"
    }
   ],
   "source": [
    "#Identificar outliers\n",
    "outliers_iqr14=data[(y14>limite_superior_iqr14)|(y14<limite_inferior_iqr14)]\n",
    "outliers_iqr14\n",
    "len(outliers_iqr14)"
   ]
  },
  {
   "cell_type": "code",
   "execution_count": 82,
   "metadata": {},
   "outputs": [
    {
     "data": {
      "text/plain": [
       "192.02390827030982"
      ]
     },
     "execution_count": 82,
     "metadata": {},
     "output_type": "execute_result"
    }
   ],
   "source": [
    "#Para tomar la decisión de a través de qué método reemplazarlos, se utilizaron los diagramas de caja para observar qué método era más atinado a los diagramas. Cabe recalcar que a pesar de haber obtenido valores atípicos para longitud y latitud, estos no fueron reemplazados ya que serían utilizados para crear un mapa en la siguiente etapa. \n",
    "#Encontrar valores con los que se quieren sustituir los outliers\n",
    "oprice=st.mean(data.price)\n",
    "oprice"
   ]
  },
  {
   "cell_type": "code",
   "execution_count": 83,
   "metadata": {},
   "outputs": [
    {
     "name": "stderr",
     "output_type": "stream",
     "text": [
      "/var/folders/h7/3hswkg9n4t7_f3vwwzsc1gv40000gn/T/ipykernel_35922/3635387461.py:3: SettingWithCopyWarning: \n",
      "A value is trying to be set on a copy of a slice from a DataFrame.\n",
      "Try using .loc[row_indexer,col_indexer] = value instead\n",
      "\n",
      "See the caveats in the documentation: https://pandas.pydata.org/pandas-docs/stable/user_guide/indexing.html#returning-a-view-versus-a-copy\n",
      "  data[\"price\"] = np.where(((data[\"price\"]>limite_superior3)|(data[\"price\"]<limite_inferior3)),192,data['price'])\n"
     ]
    }
   ],
   "source": [
    "#Sustituir valores nulos con el promedio de la columna, se toma como entero porque todos los valores de esa columna son enteros\n",
    "#A través del diagrama de caja de precio fue posible observar que los valores atípicos encontrados a través del método de desviación estándar fueron más adecuados que los encontrados con el IQR. Como se puede observar hay una serie de valores atípicos demasiado alejados de los otros valores. Debido a que tampoco se busca hacer demasiados cambios a la base de datos consideramos que fue mejor solamente reemplazar los que se ven sumamente alejados del rango de datos dentro de los límites.  Por ende, se sustituyeron tomando en cuenta el resultado de desviación estándar. Los valores atípicos se sustituyeron por el promedio de la misma variable ya que es una medida que no afecta el mínimo o máximo de la variable.\n",
    "data[\"price\"] = np.where(((data[\"price\"]>limite_superior3)|(data[\"price\"]<limite_inferior3)),192,data['price'])"
   ]
  },
  {
   "cell_type": "code",
   "execution_count": 84,
   "metadata": {},
   "outputs": [
    {
     "data": {
      "text/plain": [
       "92"
      ]
     },
     "execution_count": 84,
     "metadata": {},
     "output_type": "execute_result"
    }
   ],
   "source": [
    "#Encontrar valores con los que se quieren sustituir los outliers\n",
    "ominimum_nights=st.mode(data.minimum_nights)\n",
    "ominimum_nights"
   ]
  },
  {
   "cell_type": "code",
   "execution_count": 85,
   "metadata": {},
   "outputs": [
    {
     "name": "stderr",
     "output_type": "stream",
     "text": [
      "/var/folders/h7/3hswkg9n4t7_f3vwwzsc1gv40000gn/T/ipykernel_35922/3520921546.py:3: SettingWithCopyWarning: \n",
      "A value is trying to be set on a copy of a slice from a DataFrame.\n",
      "Try using .loc[row_indexer,col_indexer] = value instead\n",
      "\n",
      "See the caveats in the documentation: https://pandas.pydata.org/pandas-docs/stable/user_guide/indexing.html#returning-a-view-versus-a-copy\n",
      "  data[\"minimum_nights\"] = np.where(((data[\"minimum_nights\"]>limite_superior_iqr11)|(data[\"minimum_nights\"]<limite_inferior_iqr11)),92,data['minimum_nights'])\n"
     ]
    }
   ],
   "source": [
    "#Sustituir valores nulos con el promedio de la columna, se toma como entero porque todos los valores de esa columna son enteros\n",
    "#Por otra parte, se encontraron diagramas como el de minimum nights. En este caso decidimos utilizar los límites arrojados por el método IQR, lo cual implica que fue una mayor cantidad de atípicos encontrados. Esto se debe a la distribución de datos que podemos observar en el diagrama de caja. Los atípicos encontrados fueron reemplazados por la moda ya que esta toma en cuenta la cantidad mínima de noches que más se repite. \n",
    "data[\"minimum_nights\"] = np.where(((data[\"minimum_nights\"]>limite_superior_iqr11)|(data[\"minimum_nights\"]<limite_inferior_iqr11)),92,data['minimum_nights'])"
   ]
  },
  {
   "cell_type": "code",
   "execution_count": 86,
   "metadata": {},
   "outputs": [
    {
     "data": {
      "text/plain": [
       "1"
      ]
     },
     "execution_count": 86,
     "metadata": {},
     "output_type": "execute_result"
    }
   ],
   "source": [
    "#Encontrar valores con los que se quieren sustituir los outliers\n",
    "onumber_of_reviews=st.median(data.number_of_reviews)\n",
    "onumber_of_reviews"
   ]
  },
  {
   "cell_type": "code",
   "execution_count": 87,
   "metadata": {},
   "outputs": [
    {
     "name": "stderr",
     "output_type": "stream",
     "text": [
      "/var/folders/h7/3hswkg9n4t7_f3vwwzsc1gv40000gn/T/ipykernel_35922/610491280.py:3: SettingWithCopyWarning: \n",
      "A value is trying to be set on a copy of a slice from a DataFrame.\n",
      "Try using .loc[row_indexer,col_indexer] = value instead\n",
      "\n",
      "See the caveats in the documentation: https://pandas.pydata.org/pandas-docs/stable/user_guide/indexing.html#returning-a-view-versus-a-copy\n",
      "  data[\"number_of_reviews\"] = np.where(((data[\"number_of_reviews\"]>limite_superior5)|(data[\"number_of_reviews\"]<limite_inferior5)),1,data['number_of_reviews'])\n"
     ]
    }
   ],
   "source": [
    "#Sustituir valores nulos con el promedio de la columna, se toma como entero porque todos los valores de esa columna son enteros\n",
    "#Dentro de la variable number of reviews decidimos reemplazar los valores atípicos que se encontraron dentro del rango de desviaciones estándar ya que a pesar de encontrar una gran cantidad de valores atípicos, se puede observar en el diagrama que hay una serie de datos mucho más alejada de los demás. Estos fueron reemplazados por la mediana de los datos para que los nuevos valores no se vieran afectados por valores extremos, como sucede en el promedio.\n",
    "data[\"number_of_reviews\"] = np.where(((data[\"number_of_reviews\"]>limite_superior5)|(data[\"number_of_reviews\"]<limite_inferior5)),1,data['number_of_reviews'])"
   ]
  },
  {
   "cell_type": "code",
   "execution_count": 88,
   "metadata": {},
   "outputs": [
    {
     "data": {
      "text/plain": [
       "0.88"
      ]
     },
     "execution_count": 88,
     "metadata": {},
     "output_type": "execute_result"
    }
   ],
   "source": [
    "#Encontrar valores con los que se quieren sustituir los outliers\n",
    "oreviews_per_month=st.median(data.reviews_per_month)\n",
    "oreviews_per_month"
   ]
  },
  {
   "cell_type": "code",
   "execution_count": 89,
   "metadata": {},
   "outputs": [
    {
     "name": "stderr",
     "output_type": "stream",
     "text": [
      "/var/folders/h7/3hswkg9n4t7_f3vwwzsc1gv40000gn/T/ipykernel_35922/1620384332.py:3: SettingWithCopyWarning: \n",
      "A value is trying to be set on a copy of a slice from a DataFrame.\n",
      "Try using .loc[row_indexer,col_indexer] = value instead\n",
      "\n",
      "See the caveats in the documentation: https://pandas.pydata.org/pandas-docs/stable/user_guide/indexing.html#returning-a-view-versus-a-copy\n",
      "  data[\"reviews_per_month\"] = np.where(((data[\"reviews_per_month\"]>limite_superior_iqr13)|(data[\"reviews_per_month\"]<limite_inferior_iqr13)),0.88,data['reviews_per_month'])\n"
     ]
    }
   ],
   "source": [
    "#Sustituir valores nulos con el promedio de la columna, se toma como decimal porque todos los valores de esa columna son decimales\n",
    "#Por otra parte, en la variable de reviews per month sí se utilizaron los límites encontrados con el método IQR ya que podemos observar que hay muchos atípicos. Estos fueron reemplazados por la mediana por la misma razón mencionada anteriormente. \n",
    "data[\"reviews_per_month\"] = np.where(((data[\"reviews_per_month\"]>limite_superior_iqr13)|(data[\"reviews_per_month\"]<limite_inferior_iqr13)),0.88,data['reviews_per_month'])"
   ]
  },
  {
   "cell_type": "code",
   "execution_count": 90,
   "metadata": {},
   "outputs": [
    {
     "data": {
      "text/html": [
       "<div>\n",
       "<style scoped>\n",
       "    .dataframe tbody tr th:only-of-type {\n",
       "        vertical-align: middle;\n",
       "    }\n",
       "\n",
       "    .dataframe tbody tr th {\n",
       "        vertical-align: top;\n",
       "    }\n",
       "\n",
       "    .dataframe thead th {\n",
       "        text-align: right;\n",
       "    }\n",
       "</style>\n",
       "<table border=\"1\" class=\"dataframe\">\n",
       "  <thead>\n",
       "    <tr style=\"text-align: right;\">\n",
       "      <th></th>\n",
       "      <th>id</th>\n",
       "      <th>name</th>\n",
       "      <th>host_id</th>\n",
       "      <th>host_name</th>\n",
       "      <th>neighbourhood_group</th>\n",
       "      <th>neighbourhood</th>\n",
       "      <th>latitude</th>\n",
       "      <th>longitude</th>\n",
       "      <th>room_type</th>\n",
       "      <th>price</th>\n",
       "      <th>minimum_nights</th>\n",
       "      <th>number_of_reviews</th>\n",
       "      <th>last_review</th>\n",
       "      <th>reviews_per_month</th>\n",
       "      <th>calculated_host_listings_count</th>\n",
       "      <th>availability_365</th>\n",
       "      <th>number_of_reviews_ltm</th>\n",
       "    </tr>\n",
       "  </thead>\n",
       "  <tbody>\n",
       "  </tbody>\n",
       "</table>\n",
       "</div>"
      ],
      "text/plain": [
       "Empty DataFrame\n",
       "Columns: [id, name, host_id, host_name, neighbourhood_group, neighbourhood, latitude, longitude, room_type, price, minimum_nights, number_of_reviews, last_review, reviews_per_month, calculated_host_listings_count, availability_365, number_of_reviews_ltm]\n",
       "Index: []"
      ]
     },
     "execution_count": 90,
     "metadata": {},
     "output_type": "execute_result"
    }
   ],
   "source": [
    "#Comprobar que se eliminaron los outliers\n",
    "outliers15= data[(data[\"price\"]>limite_superior3)|(data[\"price\"]<limite_inferior3)]\n",
    "outliers15"
   ]
  },
  {
   "cell_type": "code",
   "execution_count": 91,
   "metadata": {},
   "outputs": [
    {
     "data": {
      "text/html": [
       "<div>\n",
       "<style scoped>\n",
       "    .dataframe tbody tr th:only-of-type {\n",
       "        vertical-align: middle;\n",
       "    }\n",
       "\n",
       "    .dataframe tbody tr th {\n",
       "        vertical-align: top;\n",
       "    }\n",
       "\n",
       "    .dataframe thead th {\n",
       "        text-align: right;\n",
       "    }\n",
       "</style>\n",
       "<table border=\"1\" class=\"dataframe\">\n",
       "  <thead>\n",
       "    <tr style=\"text-align: right;\">\n",
       "      <th></th>\n",
       "      <th>id</th>\n",
       "      <th>name</th>\n",
       "      <th>host_id</th>\n",
       "      <th>host_name</th>\n",
       "      <th>neighbourhood_group</th>\n",
       "      <th>neighbourhood</th>\n",
       "      <th>latitude</th>\n",
       "      <th>longitude</th>\n",
       "      <th>room_type</th>\n",
       "      <th>price</th>\n",
       "      <th>minimum_nights</th>\n",
       "      <th>number_of_reviews</th>\n",
       "      <th>last_review</th>\n",
       "      <th>reviews_per_month</th>\n",
       "      <th>calculated_host_listings_count</th>\n",
       "      <th>availability_365</th>\n",
       "      <th>number_of_reviews_ltm</th>\n",
       "    </tr>\n",
       "  </thead>\n",
       "  <tbody>\n",
       "  </tbody>\n",
       "</table>\n",
       "</div>"
      ],
      "text/plain": [
       "Empty DataFrame\n",
       "Columns: [id, name, host_id, host_name, neighbourhood_group, neighbourhood, latitude, longitude, room_type, price, minimum_nights, number_of_reviews, last_review, reviews_per_month, calculated_host_listings_count, availability_365, number_of_reviews_ltm]\n",
       "Index: []"
      ]
     },
     "execution_count": 91,
     "metadata": {},
     "output_type": "execute_result"
    }
   ],
   "source": [
    "#Comprobar que se eliminaron los outliers\n",
    "outliers16= data[(data[\"minimum_nights\"]>limite_superior_iqr11)|(data[\"minimum_nights\"]<limite_inferior_iqr11)]\n",
    "outliers16"
   ]
  },
  {
   "cell_type": "code",
   "execution_count": 92,
   "metadata": {},
   "outputs": [
    {
     "data": {
      "text/html": [
       "<div>\n",
       "<style scoped>\n",
       "    .dataframe tbody tr th:only-of-type {\n",
       "        vertical-align: middle;\n",
       "    }\n",
       "\n",
       "    .dataframe tbody tr th {\n",
       "        vertical-align: top;\n",
       "    }\n",
       "\n",
       "    .dataframe thead th {\n",
       "        text-align: right;\n",
       "    }\n",
       "</style>\n",
       "<table border=\"1\" class=\"dataframe\">\n",
       "  <thead>\n",
       "    <tr style=\"text-align: right;\">\n",
       "      <th></th>\n",
       "      <th>id</th>\n",
       "      <th>name</th>\n",
       "      <th>host_id</th>\n",
       "      <th>host_name</th>\n",
       "      <th>neighbourhood_group</th>\n",
       "      <th>neighbourhood</th>\n",
       "      <th>latitude</th>\n",
       "      <th>longitude</th>\n",
       "      <th>room_type</th>\n",
       "      <th>price</th>\n",
       "      <th>minimum_nights</th>\n",
       "      <th>number_of_reviews</th>\n",
       "      <th>last_review</th>\n",
       "      <th>reviews_per_month</th>\n",
       "      <th>calculated_host_listings_count</th>\n",
       "      <th>availability_365</th>\n",
       "      <th>number_of_reviews_ltm</th>\n",
       "    </tr>\n",
       "  </thead>\n",
       "  <tbody>\n",
       "  </tbody>\n",
       "</table>\n",
       "</div>"
      ],
      "text/plain": [
       "Empty DataFrame\n",
       "Columns: [id, name, host_id, host_name, neighbourhood_group, neighbourhood, latitude, longitude, room_type, price, minimum_nights, number_of_reviews, last_review, reviews_per_month, calculated_host_listings_count, availability_365, number_of_reviews_ltm]\n",
       "Index: []"
      ]
     },
     "execution_count": 92,
     "metadata": {},
     "output_type": "execute_result"
    }
   ],
   "source": [
    "#Comprobar que se eliminaron los outliers\n",
    "outliers17= data[(data[\"number_of_reviews\"]>limite_superior5)|(data[\"number_of_reviews\"]<limite_inferior5)]\n",
    "outliers17"
   ]
  },
  {
   "cell_type": "code",
   "execution_count": 93,
   "metadata": {},
   "outputs": [
    {
     "data": {
      "text/html": [
       "<div>\n",
       "<style scoped>\n",
       "    .dataframe tbody tr th:only-of-type {\n",
       "        vertical-align: middle;\n",
       "    }\n",
       "\n",
       "    .dataframe tbody tr th {\n",
       "        vertical-align: top;\n",
       "    }\n",
       "\n",
       "    .dataframe thead th {\n",
       "        text-align: right;\n",
       "    }\n",
       "</style>\n",
       "<table border=\"1\" class=\"dataframe\">\n",
       "  <thead>\n",
       "    <tr style=\"text-align: right;\">\n",
       "      <th></th>\n",
       "      <th>id</th>\n",
       "      <th>name</th>\n",
       "      <th>host_id</th>\n",
       "      <th>host_name</th>\n",
       "      <th>neighbourhood_group</th>\n",
       "      <th>neighbourhood</th>\n",
       "      <th>latitude</th>\n",
       "      <th>longitude</th>\n",
       "      <th>room_type</th>\n",
       "      <th>price</th>\n",
       "      <th>minimum_nights</th>\n",
       "      <th>number_of_reviews</th>\n",
       "      <th>last_review</th>\n",
       "      <th>reviews_per_month</th>\n",
       "      <th>calculated_host_listings_count</th>\n",
       "      <th>availability_365</th>\n",
       "      <th>number_of_reviews_ltm</th>\n",
       "    </tr>\n",
       "  </thead>\n",
       "  <tbody>\n",
       "  </tbody>\n",
       "</table>\n",
       "</div>"
      ],
      "text/plain": [
       "Empty DataFrame\n",
       "Columns: [id, name, host_id, host_name, neighbourhood_group, neighbourhood, latitude, longitude, room_type, price, minimum_nights, number_of_reviews, last_review, reviews_per_month, calculated_host_listings_count, availability_365, number_of_reviews_ltm]\n",
       "Index: []"
      ]
     },
     "execution_count": 93,
     "metadata": {},
     "output_type": "execute_result"
    }
   ],
   "source": [
    "#Comprobar que se eliminaron los outliers\n",
    "outliers18= data[(data[\"reviews_per_month\"]>limite_superior_iqr13)|(data[\"reviews_per_month\"]<limite_inferior_iqr13)]\n",
    "outliers18"
   ]
  },
  {
   "cell_type": "code",
   "execution_count": 94,
   "metadata": {},
   "outputs": [
    {
     "data": {
      "text/html": [
       "<div>\n",
       "<style scoped>\n",
       "    .dataframe tbody tr th:only-of-type {\n",
       "        vertical-align: middle;\n",
       "    }\n",
       "\n",
       "    .dataframe tbody tr th {\n",
       "        vertical-align: top;\n",
       "    }\n",
       "\n",
       "    .dataframe thead th {\n",
       "        text-align: right;\n",
       "    }\n",
       "</style>\n",
       "<table border=\"1\" class=\"dataframe\">\n",
       "  <thead>\n",
       "    <tr style=\"text-align: right;\">\n",
       "      <th></th>\n",
       "      <th>id</th>\n",
       "      <th>name</th>\n",
       "      <th>host_id</th>\n",
       "      <th>host_name</th>\n",
       "      <th>neighbourhood_group</th>\n",
       "      <th>neighbourhood</th>\n",
       "      <th>latitude</th>\n",
       "      <th>longitude</th>\n",
       "      <th>room_type</th>\n",
       "      <th>price</th>\n",
       "      <th>minimum_nights</th>\n",
       "      <th>number_of_reviews</th>\n",
       "      <th>last_review</th>\n",
       "      <th>reviews_per_month</th>\n",
       "      <th>calculated_host_listings_count</th>\n",
       "      <th>availability_365</th>\n",
       "      <th>number_of_reviews_ltm</th>\n",
       "    </tr>\n",
       "  </thead>\n",
       "  <tbody>\n",
       "  </tbody>\n",
       "</table>\n",
       "</div>"
      ],
      "text/plain": [
       "Empty DataFrame\n",
       "Columns: [id, name, host_id, host_name, neighbourhood_group, neighbourhood, latitude, longitude, room_type, price, minimum_nights, number_of_reviews, last_review, reviews_per_month, calculated_host_listings_count, availability_365, number_of_reviews_ltm]\n",
       "Index: []"
      ]
     },
     "execution_count": 94,
     "metadata": {},
     "output_type": "execute_result"
    }
   ],
   "source": [
    "#Comprobar que se eliminaron los outliers\n",
    "outliers19= data[(data[\"availability_365\"]>limite_superior_iqr14)|(data[\"availability_365\"]<limite_inferior_iqr14)]\n",
    "outliers19"
   ]
  },
  {
   "cell_type": "code",
   "execution_count": 95,
   "metadata": {},
   "outputs": [],
   "source": [
    "#Convertir base de datos limpia a csv\n",
    "data.to_csv(\"datosfinalessingapur.csv\")"
   ]
  }
 ],
 "metadata": {
  "kernelspec": {
   "display_name": "Python 3.10.6 64-bit",
   "language": "python",
   "name": "python3"
  },
  "language_info": {
   "codemirror_mode": {
    "name": "ipython",
    "version": 3
   },
   "file_extension": ".py",
   "mimetype": "text/x-python",
   "name": "python",
   "nbconvert_exporter": "python",
   "pygments_lexer": "ipython3",
   "version": "3.10.6"
  },
  "orig_nbformat": 4,
  "vscode": {
   "interpreter": {
    "hash": "aee8b7b246df8f9039afb4144a1f6fd8d2ca17a180786b69acc140d282b71a49"
   }
  }
 },
 "nbformat": 4,
 "nbformat_minor": 2
}
